{
 "cells": [
  {
   "cell_type": "markdown",
   "id": "45e56e16",
   "metadata": {},
   "source": [
    "### CSS-styling"
   ]
  },
  {
   "cell_type": "code",
   "execution_count": 1,
   "id": "f740fb4f",
   "metadata": {},
   "outputs": [
    {
     "data": {
      "text/html": [
       "<style>\n",
       ".myDiv {\n",
       "  border: 5px outset red;\n",
       "  background-color: mintcream;\n",
       "  text-align: center;\n",
       "  padding-right:50;\n",
       "  padding-left:50;\n",
       "  margin-top: 30px;\n",
       "  margin-bottom: 30px}\n",
       "\n",
       ".myDiv_2 {\n",
       "  margin-top: 10px;\n",
       "  margin-bottom: 10px;\n",
       "  margin-left: 10px;\n",
       "  margin-right: 10px;\n",
       "  text-align: center;\n",
       "  padding-right:50;\n",
       "  padding-left:50;}\n",
       "\n",
       ".myDiv_header1 {\n",
       "  color: royalblue;\n",
       "  font-size: 150%;\n",
       "  text-align: center}\n",
       "\n",
       "</style>\n"
      ],
      "text/plain": [
       "<IPython.core.display.HTML object>"
      ]
     },
     "execution_count": 1,
     "metadata": {},
     "output_type": "execute_result"
    }
   ],
   "source": [
    "# HTML\n",
    "from IPython.core.display import HTML\n",
    "\n",
    "def css_styling():\n",
    "    styles = open(\"custom.css\", \"r\").read()\n",
    "    return HTML(styles)\n",
    "# print(css_styling())\n",
    "css_styling()"
   ]
  },
  {
   "cell_type": "code",
   "execution_count": 104,
   "id": "536cc9a4",
   "metadata": {},
   "outputs": [
    {
     "data": {
      "text/html": [
       "\n",
       "<div class=\"myDiv\">\n",
       "  <div class=\"myDiv_header1\">\n",
       "    <h1>Summary</h1>\n",
       "       </div>      \n",
       "        <div class=\"myDiv_2\">\n",
       "        \n",
       "        <p>\n",
       "            SQL is one of the most important tools in data analytics and data science.\n",
       "            Reasons enough to take a closer look at SQL.\n",
       "            This project uses the SQLite adapter for importing database files.\n",
       "            For example the Chinook, Northwind, HR, and movie databases are imported with queries.\n",
       "            The data is then transformed into pandas data frames.\n",
       "            Pandassql is applied for querying the data frames with SQL logic instead of \n",
       "            Pandas native subsetting.A deeper look into queries is taken with the movie database.\n",
       "            Several basic queries without joins are applied. \n",
       "            This is the main focus of the project as queries are concerned.\n",
       "            The query results are accompanied\n",
       "            by data visualization plots. A class query is constructed to make the \n",
       "            tasks easier and the code cleaner.\n",
       "\n",
       "        </p>\n",
       "        \n",
       "        <p>\n",
       "           The graphic below show the relationship syntax of SQL databases.\n",
       "        </p>\n",
       "        \n",
       "        \n",
       "        </div>\n",
       "</div>\n"
      ],
      "text/plain": [
       "<IPython.core.display.HTML object>"
      ]
     },
     "metadata": {},
     "output_type": "display_data"
    }
   ],
   "source": [
    "%%html\n",
    "\n",
    "<div class=\"myDiv\">\n",
    "  <div class=\"myDiv_header1\">\n",
    "    <h1>Summary</h1>\n",
    "       </div>      \n",
    "        <div class=\"myDiv_2\">\n",
    "        \n",
    "        <p>\n",
    "            SQL is one of the most important tools in data analytics and data science.\n",
    "            Reasons enough to take a closer look at SQL.\n",
    "            This project uses the SQLite adapter for importing database files.\n",
    "            For example the Chinook, Northwind, HR, and movie databases are imported with queries.\n",
    "            The data is then transformed into pandas data frames.\n",
    "            Pandassql is applied for querying the data frames with SQL logic instead of \n",
    "            Pandas native subsetting.A deeper look into queries is taken with the movie database.\n",
    "            Several basic queries without joins are applied. \n",
    "            This is the main focus of the project as queries are concerned.\n",
    "            The query results are accompanied\n",
    "            by data visualization plots. A class query is constructed to make the \n",
    "            tasks easier and the code cleaner.\n",
    "\n",
    "        </p>\n",
    "        \n",
    "        <p>\n",
    "           The graphic below show the relationship syntax of SQL databases.\n",
    "        </p>\n",
    "        \n",
    "        \n",
    "        </div>\n",
    "</div>\n"
   ]
  },
  {
   "cell_type": "markdown",
   "id": "c9637390",
   "metadata": {},
   "source": [
    "\n",
    "\n",
    "\n",
    "<img src=\"images/dbschema_symbols.gif\" alt=\"Smiley face\" height=\"300\" width=\"400\">"
   ]
  },
  {
   "cell_type": "markdown",
   "id": "fc14a324",
   "metadata": {
    "scrolled": true
   },
   "source": [
    "\n",
    "\n",
    "\n"
   ]
  },
  {
   "cell_type": "markdown",
   "id": "c8607e6c",
   "metadata": {},
   "source": [
    "# Importing packages"
   ]
  },
  {
   "cell_type": "code",
   "execution_count": 3,
   "id": "581f212a",
   "metadata": {
    "scrolled": true
   },
   "outputs": [],
   "source": [
    "# core packages\n",
    "import pandas as pd\n",
    "import pandasql\n",
    "from pandasql import sqldf\n",
    "import numpy as np\n",
    "\n",
    "# visualization\n",
    "import matplotlib.pyplot as plt\n",
    "%matplotlib inline\n",
    "import seaborn as sns\n",
    "\n",
    "# tools\n",
    "import os as os\n",
    "import time\n",
    "import pprint\n",
    "import sys\n",
    "import re\n",
    "import json\n",
    "\n",
    "# databases\n",
    "import sqlalchemy\n",
    "import sqlite3\n",
    "import psycopg2\n",
    "\n",
    "# HTML\n",
    "from IPython.core.display import HTML"
   ]
  },
  {
   "cell_type": "code",
   "execution_count": 4,
   "id": "023a4576",
   "metadata": {},
   "outputs": [
    {
     "name": "stdout",
     "output_type": "stream",
     "text": [
      "C:\\Users\\gamarandor\\data_science\\data_science_projects\\data_camp_projects\\sql\n"
     ]
    }
   ],
   "source": [
    "cwd=os.getcwd()\n",
    "print(cwd)"
   ]
  },
  {
   "cell_type": "code",
   "execution_count": 5,
   "id": "86299709",
   "metadata": {},
   "outputs": [
    {
     "data": {
      "text/html": [
       "\n",
       "\n",
       "\n",
       "<div class=\"myDiv\">\n",
       "  <h2>Database: chinook</h2>\n",
       "        \n",
       "        <div class=\"myDiv_2\">\n",
       "        \n",
       "        <p>\n",
       "        The Chinook data model represents a digital media store, \n",
       "        including tables for artists, albums, media tracks, invoices \n",
       "        and customers.\n",
       "        </p>\n",
       "        \n",
       "        \n",
       "        <h2>Database schema</h2>\n",
       "        </div>\n",
       "</div>\n",
       "\n",
       "      \n",
       "\n",
       "<img src=\"images/dbschema_chinook.jpg\" \n",
       "alt=\"Smiley face\" height=\"600\" width=\"600\">    \n"
      ],
      "text/plain": [
       "<IPython.core.display.HTML object>"
      ]
     },
     "metadata": {},
     "output_type": "display_data"
    }
   ],
   "source": [
    "%%html\n",
    "\n",
    "\n",
    "\n",
    "<div class=\"myDiv\">\n",
    "  <h2>Database: chinook</h2>\n",
    "        \n",
    "        <div class=\"myDiv_2\">\n",
    "        \n",
    "        <p>\n",
    "        The Chinook data model represents a digital media store, \n",
    "        including tables for artists, albums, media tracks, invoices \n",
    "        and customers.\n",
    "        </p>\n",
    "        \n",
    "        \n",
    "        <h2>Database schema</h2>\n",
    "        </div>\n",
    "</div>\n",
    "\n",
    "      \n",
    "\n",
    "<img src=\"images/dbschema_chinook.jpg\" \n",
    "alt=\"Smiley face\" height=\"600\" width=\"600\">    "
   ]
  },
  {
   "cell_type": "markdown",
   "id": "b32e83b1",
   "metadata": {},
   "source": [
    "# Importing the data\n",
    "## Database: chinook"
   ]
  },
  {
   "cell_type": "code",
   "execution_count": 6,
   "id": "38515052",
   "metadata": {
    "scrolled": true
   },
   "outputs": [
    {
     "data": {
      "text/plain": [
       "<sqlite3.Connection at 0x1fc8c974650>"
      ]
     },
     "execution_count": 6,
     "metadata": {},
     "output_type": "execute_result"
    }
   ],
   "source": [
    "conn_1 = sqlite3.connect(\"databasefiles/chinook/chinook.db\")\n",
    "conn_1"
   ]
  },
  {
   "cell_type": "code",
   "execution_count": 7,
   "id": "49f05e77",
   "metadata": {},
   "outputs": [
    {
     "name": "stdout",
     "output_type": "stream",
     "text": [
      "albums\n",
      "sqlite_sequence\n",
      "artists\n",
      "customers\n",
      "employees\n",
      "genres\n",
      "invoices\n",
      "invoice_items\n",
      "media_types\n",
      "playlists\n",
      "playlist_track\n",
      "tracks\n",
      "sqlite_stat1\n"
     ]
    }
   ],
   "source": [
    "res = conn_1.execute(\"SELECT name FROM sqlite_master WHERE type='table';\")\n",
    "\n",
    "for name in res.fetchall():\n",
    "    print(name[0])"
   ]
  },
  {
   "cell_type": "code",
   "execution_count": 8,
   "id": "d4b55e32",
   "metadata": {},
   "outputs": [
    {
     "data": {
      "text/plain": [
       "<sqlite3.Cursor at 0x1fc8ca2e2d0>"
      ]
     },
     "execution_count": 8,
     "metadata": {},
     "output_type": "execute_result"
    }
   ],
   "source": [
    "res"
   ]
  },
  {
   "cell_type": "code",
   "execution_count": 9,
   "id": "d1aa1e17",
   "metadata": {
    "scrolled": true
   },
   "outputs": [],
   "source": [
    "invoices = \\\n",
    "pd.read_sql_query(\"select * from invoices;\", con = conn_1)"
   ]
  },
  {
   "cell_type": "code",
   "execution_count": 10,
   "id": "f801a439",
   "metadata": {
    "scrolled": true
   },
   "outputs": [
    {
     "name": "stdout",
     "output_type": "stream",
     "text": [
      "(412, 9)\n",
      "<class 'pandas.core.frame.DataFrame'>\n",
      "RangeIndex: 412 entries, 0 to 411\n",
      "Data columns (total 9 columns):\n",
      " #   Column             Non-Null Count  Dtype  \n",
      "---  ------             --------------  -----  \n",
      " 0   InvoiceId          412 non-null    int64  \n",
      " 1   CustomerId         412 non-null    int64  \n",
      " 2   InvoiceDate        412 non-null    object \n",
      " 3   BillingAddress     412 non-null    object \n",
      " 4   BillingCity        412 non-null    object \n",
      " 5   BillingState       210 non-null    object \n",
      " 6   BillingCountry     412 non-null    object \n",
      " 7   BillingPostalCode  384 non-null    object \n",
      " 8   Total              412 non-null    float64\n",
      "dtypes: float64(1), int64(2), object(6)\n",
      "memory usage: 29.1+ KB\n",
      "None\n"
     ]
    }
   ],
   "source": [
    "print(invoices.shape)\n",
    "print(invoices.info())"
   ]
  },
  {
   "cell_type": "markdown",
   "id": "a1a67919",
   "metadata": {},
   "source": [
    "### pandasql \n",
    "<p>\n",
    "As an SQL enthusiast it possible to import the data with the pd.read_sql function using the Python Sqlite API connection into a dataframe and then query the dataframe with pandassql.\n",
    "</p>\n",
    "\n",
    "<p>\n",
    "\"pandasql allows you to query pandas DataFrames using SQL syntax. It works similarly to sqldf in R. pandasql seeks to provide a more familiar way of manipulating and cleaning data for people new to Python or pandas.\"<br>\n",
    "<a href=\"https://pypi.org/project/pandasql/\" target=\"_blank\">pandasql</a> \n",
    "</p>\n",
    "\n",
    "<p>\n",
    "A tutorial for pandassql is given here:\n",
    "<a href=\"https://python-bloggers.com/2021/01/sql-with-pandas-data-frames/\" target=\"_blank\">python-bloggers</a> \n",
    "\n",
    "</p>"
   ]
  },
  {
   "cell_type": "code",
   "execution_count": 11,
   "id": "9aa83c4c",
   "metadata": {
    "scrolled": true
   },
   "outputs": [
    {
     "name": "stdout",
     "output_type": "stream",
     "text": [
      "<class 'pandas.core.frame.DataFrame'>\n",
      "<class 'pandas.core.frame.DataFrame'>\n",
      "RangeIndex: 412 entries, 0 to 411\n",
      "Data columns (total 3 columns):\n",
      " #   Column          Non-Null Count  Dtype  \n",
      "---  ------          --------------  -----  \n",
      " 0   InvoiceId       412 non-null    int64  \n",
      " 1   BillingAddress  412 non-null    object \n",
      " 2   Total           412 non-null    float64\n",
      "dtypes: float64(1), int64(1), object(1)\n",
      "memory usage: 9.8+ KB\n",
      "None\n"
     ]
    }
   ],
   "source": [
    "query_11 = \"\"\"SELECT InvoiceID, BillingAddress, Total FROM invoices\"\"\"\n",
    "\n",
    "view_11 = sqldf(query_11, globals())\n",
    "\n",
    "print(type(view_11))\n",
    "print(view_11.info())"
   ]
  },
  {
   "cell_type": "code",
   "execution_count": 12,
   "id": "9ebf5aa2",
   "metadata": {
    "scrolled": true
   },
   "outputs": [
    {
     "data": {
      "text/html": [
       "<div>\n",
       "<style scoped>\n",
       "    .dataframe tbody tr th:only-of-type {\n",
       "        vertical-align: middle;\n",
       "    }\n",
       "\n",
       "    .dataframe tbody tr th {\n",
       "        vertical-align: top;\n",
       "    }\n",
       "\n",
       "    .dataframe thead th {\n",
       "        text-align: right;\n",
       "    }\n",
       "</style>\n",
       "<table border=\"1\" class=\"dataframe\">\n",
       "  <thead>\n",
       "    <tr style=\"text-align: right;\">\n",
       "      <th></th>\n",
       "      <th>InvoiceId</th>\n",
       "      <th>BillingAddress</th>\n",
       "      <th>Total</th>\n",
       "    </tr>\n",
       "  </thead>\n",
       "  <tbody>\n",
       "    <tr>\n",
       "      <th>0</th>\n",
       "      <td>1</td>\n",
       "      <td>Theodor-Heuss-Straße 34</td>\n",
       "      <td>1.98</td>\n",
       "    </tr>\n",
       "    <tr>\n",
       "      <th>1</th>\n",
       "      <td>2</td>\n",
       "      <td>Ullevålsveien 14</td>\n",
       "      <td>3.96</td>\n",
       "    </tr>\n",
       "  </tbody>\n",
       "</table>\n",
       "</div>"
      ],
      "text/plain": [
       "   InvoiceId           BillingAddress  Total\n",
       "0          1  Theodor-Heuss-Straße 34   1.98\n",
       "1          2         Ullevålsveien 14   3.96"
      ]
     },
     "execution_count": 12,
     "metadata": {},
     "output_type": "execute_result"
    }
   ],
   "source": [
    "view_11.head(2)"
   ]
  },
  {
   "cell_type": "code",
   "execution_count": 13,
   "id": "fc2722e4",
   "metadata": {
    "scrolled": true
   },
   "outputs": [
    {
     "data": {
      "text/plain": [
       "2328.5999999999995"
      ]
     },
     "execution_count": 13,
     "metadata": {},
     "output_type": "execute_result"
    }
   ],
   "source": [
    "total_billing=view_11.Total.sum()\n",
    "total_billing"
   ]
  },
  {
   "cell_type": "markdown",
   "id": "249f2f84",
   "metadata": {},
   "source": [
    "<p>The session argument knows to values: locals and globals.</p>"
   ]
  },
  {
   "cell_type": "code",
   "execution_count": 14,
   "id": "ed8e2ce5",
   "metadata": {
    "scrolled": true
   },
   "outputs": [],
   "source": [
    "query_22 = \"\"\"SELECT CustomerId, AVG(Total) AS Average_Billing\n",
    "              FROM invoices\n",
    "              GROUP BY InvoiceID\n",
    "              ORDER BY Average_Billing DESC\"\"\""
   ]
  },
  {
   "cell_type": "code",
   "execution_count": 15,
   "id": "7be95cde",
   "metadata": {
    "scrolled": true
   },
   "outputs": [
    {
     "name": "stdout",
     "output_type": "stream",
     "text": [
      "<class 'pandas.core.frame.DataFrame'>\n",
      "RangeIndex: 412 entries, 0 to 411\n",
      "Data columns (total 2 columns):\n",
      " #   Column           Non-Null Count  Dtype  \n",
      "---  ------           --------------  -----  \n",
      " 0   CustomerId       412 non-null    int64  \n",
      " 1   Average_Billing  412 non-null    float64\n",
      "dtypes: float64(1), int64(1)\n",
      "memory usage: 6.6 KB\n",
      "None\n"
     ]
    }
   ],
   "source": [
    "view_22 = sqldf(query_22, globals())\n",
    "\n",
    "print(view_22.info())"
   ]
  },
  {
   "cell_type": "code",
   "execution_count": 16,
   "id": "bb3ba856",
   "metadata": {
    "scrolled": true
   },
   "outputs": [
    {
     "data": {
      "text/html": [
       "<div>\n",
       "<style scoped>\n",
       "    .dataframe tbody tr th:only-of-type {\n",
       "        vertical-align: middle;\n",
       "    }\n",
       "\n",
       "    .dataframe tbody tr th {\n",
       "        vertical-align: top;\n",
       "    }\n",
       "\n",
       "    .dataframe thead th {\n",
       "        text-align: right;\n",
       "    }\n",
       "</style>\n",
       "<table border=\"1\" class=\"dataframe\">\n",
       "  <thead>\n",
       "    <tr style=\"text-align: right;\">\n",
       "      <th></th>\n",
       "      <th>CustomerId</th>\n",
       "      <th>Average_Billing</th>\n",
       "    </tr>\n",
       "  </thead>\n",
       "  <tbody>\n",
       "    <tr>\n",
       "      <th>0</th>\n",
       "      <td>6</td>\n",
       "      <td>25.86</td>\n",
       "    </tr>\n",
       "    <tr>\n",
       "      <th>1</th>\n",
       "      <td>26</td>\n",
       "      <td>23.86</td>\n",
       "    </tr>\n",
       "    <tr>\n",
       "      <th>2</th>\n",
       "      <td>46</td>\n",
       "      <td>21.86</td>\n",
       "    </tr>\n",
       "    <tr>\n",
       "      <th>3</th>\n",
       "      <td>45</td>\n",
       "      <td>21.86</td>\n",
       "    </tr>\n",
       "    <tr>\n",
       "      <th>4</th>\n",
       "      <td>25</td>\n",
       "      <td>18.86</td>\n",
       "    </tr>\n",
       "  </tbody>\n",
       "</table>\n",
       "</div>"
      ],
      "text/plain": [
       "   CustomerId  Average_Billing\n",
       "0           6            25.86\n",
       "1          26            23.86\n",
       "2          46            21.86\n",
       "3          45            21.86\n",
       "4          25            18.86"
      ]
     },
     "execution_count": 16,
     "metadata": {},
     "output_type": "execute_result"
    }
   ],
   "source": [
    "view_22.head()"
   ]
  },
  {
   "cell_type": "code",
   "execution_count": 17,
   "id": "4e89548a",
   "metadata": {
    "scrolled": true
   },
   "outputs": [
    {
     "data": {
      "image/png": "[encoded data removed]",
      "text/plain": [
       "<Figure size 1368x360 with 1 Axes>"
      ]
     },
     "metadata": {
      "needs_background": "light"
     },
     "output_type": "display_data"
    }
   ],
   "source": [
    "view_22.loc[:10,:].plot.bar(edgecolor='black', \n",
    "                            x='CustomerId', y='Average_Billing',\n",
    "                            color=['mediumpurple','firebrick'],\n",
    "                            figsize=(19,5),\n",
    "                            title=\"Top ten customers by average billing\",\n",
    "                            legend=False)\n",
    "plt.show()"
   ]
  },
  {
   "cell_type": "markdown",
   "id": "5bca5071",
   "metadata": {},
   "source": [
    "<p>The function below makes querying easier by making \"globals\"\n",
    "the static argument.</p>"
   ]
  },
  {
   "cell_type": "code",
   "execution_count": 18,
   "id": "a3e17df7",
   "metadata": {},
   "outputs": [],
   "source": [
    "sqlquery=lambda query: sqldf(query, globals())"
   ]
  },
  {
   "cell_type": "markdown",
   "id": "f5f71034",
   "metadata": {},
   "source": [
    "#### Building a class SQLquery\n",
    "\n",
    "<p>for writing clean code and making coding easier.</p>"
   ]
  },
  {
   "cell_type": "code",
   "execution_count": 19,
   "id": "48ed93d3",
   "metadata": {},
   "outputs": [],
   "source": [
    "class SQLquery():\n",
    "    \"\"\"Doing SQL queries on data frames\"\"\"\n",
    "    def __init__(self, name, df, view=None):\n",
    "        self.name = name\n",
    "        self.df = df\n",
    "        self.view = view\n",
    "        \n",
    "    def sqlquery_command(self, query):\n",
    "        self.view=sqldf(query, globals())\n",
    "        return self.view\n",
    "    \n",
    "    def n_rows(self):\n",
    "        n_rows = (len(self.df))\n",
    "        return n_rows\n",
    "    \n"
   ]
  },
  {
   "cell_type": "markdown",
   "id": "a8529d31",
   "metadata": {},
   "source": [
    "<p>Creating the class object.</p>"
   ]
  },
  {
   "cell_type": "code",
   "execution_count": 20,
   "id": "1970bb98",
   "metadata": {},
   "outputs": [
    {
     "data": {
      "text/plain": [
       "'invoices'"
      ]
     },
     "execution_count": 20,
     "metadata": {},
     "output_type": "execute_result"
    }
   ],
   "source": [
    "Invoices_object = SQLquery('invoices', invoices)\n",
    "Invoices_object.name"
   ]
  },
  {
   "cell_type": "code",
   "execution_count": 21,
   "id": "4a4bf4fb",
   "metadata": {},
   "outputs": [
    {
     "data": {
      "text/html": [
       "<div>\n",
       "<style scoped>\n",
       "    .dataframe tbody tr th:only-of-type {\n",
       "        vertical-align: middle;\n",
       "    }\n",
       "\n",
       "    .dataframe tbody tr th {\n",
       "        vertical-align: top;\n",
       "    }\n",
       "\n",
       "    .dataframe thead th {\n",
       "        text-align: right;\n",
       "    }\n",
       "</style>\n",
       "<table border=\"1\" class=\"dataframe\">\n",
       "  <thead>\n",
       "    <tr style=\"text-align: right;\">\n",
       "      <th></th>\n",
       "      <th>InvoiceId</th>\n",
       "      <th>CustomerId</th>\n",
       "      <th>InvoiceDate</th>\n",
       "      <th>BillingAddress</th>\n",
       "      <th>BillingCity</th>\n",
       "      <th>BillingState</th>\n",
       "      <th>BillingCountry</th>\n",
       "      <th>BillingPostalCode</th>\n",
       "      <th>Total</th>\n",
       "    </tr>\n",
       "  </thead>\n",
       "  <tbody>\n",
       "    <tr>\n",
       "      <th>0</th>\n",
       "      <td>1</td>\n",
       "      <td>2</td>\n",
       "      <td>2009-01-01 00:00:00</td>\n",
       "      <td>Theodor-Heuss-Straße 34</td>\n",
       "      <td>Stuttgart</td>\n",
       "      <td>None</td>\n",
       "      <td>Germany</td>\n",
       "      <td>70174</td>\n",
       "      <td>1.98</td>\n",
       "    </tr>\n",
       "  </tbody>\n",
       "</table>\n",
       "</div>"
      ],
      "text/plain": [
       "   InvoiceId  CustomerId          InvoiceDate           BillingAddress  \\\n",
       "0          1           2  2009-01-01 00:00:00  Theodor-Heuss-Straße 34   \n",
       "\n",
       "  BillingCity BillingState BillingCountry BillingPostalCode  Total  \n",
       "0   Stuttgart         None        Germany             70174   1.98  "
      ]
     },
     "execution_count": 21,
     "metadata": {},
     "output_type": "execute_result"
    }
   ],
   "source": [
    "Invoices_object.df.head(1)"
   ]
  },
  {
   "cell_type": "code",
   "execution_count": 22,
   "id": "a9bcf513",
   "metadata": {},
   "outputs": [
    {
     "data": {
      "text/plain": [
       "412"
      ]
     },
     "execution_count": 22,
     "metadata": {},
     "output_type": "execute_result"
    }
   ],
   "source": [
    "Invoices_object.n_rows()"
   ]
  },
  {
   "cell_type": "code",
   "execution_count": 23,
   "id": "c21aafef",
   "metadata": {},
   "outputs": [
    {
     "name": "stdout",
     "output_type": "stream",
     "text": [
      "<class 'pandas.core.frame.DataFrame'>\n"
     ]
    },
    {
     "data": {
      "text/html": [
       "<div>\n",
       "<style scoped>\n",
       "    .dataframe tbody tr th:only-of-type {\n",
       "        vertical-align: middle;\n",
       "    }\n",
       "\n",
       "    .dataframe tbody tr th {\n",
       "        vertical-align: top;\n",
       "    }\n",
       "\n",
       "    .dataframe thead th {\n",
       "        text-align: right;\n",
       "    }\n",
       "</style>\n",
       "<table border=\"1\" class=\"dataframe\">\n",
       "  <thead>\n",
       "    <tr style=\"text-align: right;\">\n",
       "      <th></th>\n",
       "      <th>CustomerId</th>\n",
       "      <th>Average_Billing</th>\n",
       "    </tr>\n",
       "  </thead>\n",
       "  <tbody>\n",
       "    <tr>\n",
       "      <th>0</th>\n",
       "      <td>6</td>\n",
       "      <td>25.86</td>\n",
       "    </tr>\n",
       "  </tbody>\n",
       "</table>\n",
       "</div>"
      ],
      "text/plain": [
       "   CustomerId  Average_Billing\n",
       "0           6            25.86"
      ]
     },
     "execution_count": 23,
     "metadata": {},
     "output_type": "execute_result"
    }
   ],
   "source": [
    "view_all_11=Invoices_object.sqlquery_command(query_22)\n",
    "\n",
    "print(type(view_all_11))\n",
    "view_all_11.head(1)"
   ]
  },
  {
   "cell_type": "markdown",
   "id": "dfedd50f",
   "metadata": {},
   "source": [
    "### Getting information about the database"
   ]
  },
  {
   "cell_type": "code",
   "execution_count": 24,
   "id": "5a0c5fe4",
   "metadata": {
    "scrolled": true
   },
   "outputs": [],
   "source": [
    "query_44=\"\"\"SELECT BillingAddress FROM invoices\n",
    "            WHERE (BillingAddress LIKE 'U%' OR \n",
    "                   BillingAddress LIKE 'T%')\n",
    "                   ORDER BY BillingAddress\n",
    "         \"\"\""
   ]
  },
  {
   "cell_type": "code",
   "execution_count": 25,
   "id": "b1fadccc",
   "metadata": {
    "scrolled": true
   },
   "outputs": [
    {
     "name": "stdout",
     "output_type": "stream",
     "text": [
      "<class 'pandas.core.frame.DataFrame'>\n",
      "RangeIndex: 21 entries, 0 to 20\n",
      "Data columns (total 1 columns):\n",
      " #   Column          Non-Null Count  Dtype \n",
      "---  ------          --------------  ----- \n",
      " 0   BillingAddress  21 non-null     object\n",
      "dtypes: object(1)\n",
      "memory usage: 296.0+ bytes\n",
      "None\n"
     ]
    }
   ],
   "source": [
    "view_44 = sqlquery(query_44)\n",
    "\n",
    "print(view_44.info())"
   ]
  },
  {
   "cell_type": "code",
   "execution_count": 26,
   "id": "64f44c39",
   "metadata": {
    "scrolled": true
   },
   "outputs": [
    {
     "data": {
      "text/html": [
       "<div>\n",
       "<style scoped>\n",
       "    .dataframe tbody tr th:only-of-type {\n",
       "        vertical-align: middle;\n",
       "    }\n",
       "\n",
       "    .dataframe tbody tr th {\n",
       "        vertical-align: top;\n",
       "    }\n",
       "\n",
       "    .dataframe thead th {\n",
       "        text-align: right;\n",
       "    }\n",
       "</style>\n",
       "<table border=\"1\" class=\"dataframe\">\n",
       "  <thead>\n",
       "    <tr style=\"text-align: right;\">\n",
       "      <th></th>\n",
       "      <th>BillingAddress</th>\n",
       "    </tr>\n",
       "  </thead>\n",
       "  <tbody>\n",
       "    <tr>\n",
       "      <th>0</th>\n",
       "      <td>Tauentzienstraße 8</td>\n",
       "    </tr>\n",
       "    <tr>\n",
       "      <th>1</th>\n",
       "      <td>Tauentzienstraße 8</td>\n",
       "    </tr>\n",
       "    <tr>\n",
       "      <th>2</th>\n",
       "      <td>Tauentzienstraße 8</td>\n",
       "    </tr>\n",
       "    <tr>\n",
       "      <th>3</th>\n",
       "      <td>Tauentzienstraße 8</td>\n",
       "    </tr>\n",
       "    <tr>\n",
       "      <th>4</th>\n",
       "      <td>Tauentzienstraße 8</td>\n",
       "    </tr>\n",
       "  </tbody>\n",
       "</table>\n",
       "</div>"
      ],
      "text/plain": [
       "       BillingAddress\n",
       "0  Tauentzienstraße 8\n",
       "1  Tauentzienstraße 8\n",
       "2  Tauentzienstraße 8\n",
       "3  Tauentzienstraße 8\n",
       "4  Tauentzienstraße 8"
      ]
     },
     "execution_count": 26,
     "metadata": {},
     "output_type": "execute_result"
    }
   ],
   "source": [
    "view_44.head()"
   ]
  },
  {
   "cell_type": "code",
   "execution_count": 27,
   "id": "c45ac88b",
   "metadata": {
    "scrolled": true
   },
   "outputs": [
    {
     "data": {
      "text/plain": [
       "BillingAddress         \n",
       "Tauentzienstraße 8         7\n",
       "Theodor-Heuss-Straße 34    7\n",
       "Ullevålsveien 14           7\n",
       "dtype: int64"
      ]
     },
     "execution_count": 27,
     "metadata": {},
     "output_type": "execute_result"
    }
   ],
   "source": [
    "view_44.value_counts()"
   ]
  },
  {
   "cell_type": "code",
   "execution_count": 28,
   "id": "44ac553e",
   "metadata": {
    "scrolled": true
   },
   "outputs": [
    {
     "data": {
      "image/png": "[encoded data removed]",
      "text/plain": [
       "<Figure size 792x216 with 1 Axes>"
      ]
     },
     "metadata": {
      "needs_background": "light"
     },
     "output_type": "display_data"
    }
   ],
   "source": [
    "view_44.value_counts().plot.bar(edgecolor='black', figsize=(11,3),\n",
    "                                color=[\"lightcyan\", \n",
    "                                       \"lightgoldenrodyellow\", \n",
    "                                       \"lightgray\"])\n",
    "plt.show()"
   ]
  },
  {
   "cell_type": "code",
   "execution_count": 29,
   "id": "aad806ae",
   "metadata": {},
   "outputs": [
    {
     "data": {
      "text/html": [
       "\n",
       "<div class=\"myDiv\">\n",
       "  <h2>Database: classicmodels</h2>\n",
       "        \n",
       "        <div class=\"myDiv_2\">\n",
       "        \n",
       "        <p>\n",
       "        The classicmodels database is a retailer of scale models \n",
       "        of classic cars database. It contains typical business data \n",
       "        such as customers, products, sales orders, sales order line \n",
       "        items, etc.\n",
       "        </p>\n",
       "        \n",
       "        \n",
       "        <h2>Database schema</h2>\n",
       "        </div>\n",
       "</div>\n",
       "\n",
       "      \n",
       "\n",
       "<img src=\"images/classicmodels.png\" \n",
       "alt=\"Smiley face\" height=\"600\" width=\"600\">    \n"
      ],
      "text/plain": [
       "<IPython.core.display.HTML object>"
      ]
     },
     "metadata": {},
     "output_type": "display_data"
    }
   ],
   "source": [
    "%%html\n",
    "\n",
    "<div class=\"myDiv\">\n",
    "  <h2>Database: classicmodels</h2>\n",
    "        \n",
    "        <div class=\"myDiv_2\">\n",
    "        \n",
    "        <p>\n",
    "        The classicmodels database is a retailer of scale models \n",
    "        of classic cars database. It contains typical business data \n",
    "        such as customers, products, sales orders, sales order line \n",
    "        items, etc.\n",
    "        </p>\n",
    "        \n",
    "        \n",
    "        <h2>Database schema</h2>\n",
    "        </div>\n",
    "</div>\n",
    "\n",
    "      \n",
    "\n",
    "<img src=\"images/classicmodels.png\" \n",
    "alt=\"Smiley face\" height=\"600\" width=\"600\">    "
   ]
  },
  {
   "cell_type": "code",
   "execution_count": 30,
   "id": "22ae9d21",
   "metadata": {
    "scrolled": true
   },
   "outputs": [],
   "source": [
    "conn_44 = \\\n",
    "sqlite3.connect('databasefiles/company_mysql/classicmodels.sqlite')"
   ]
  },
  {
   "cell_type": "code",
   "execution_count": 31,
   "id": "e70abd93",
   "metadata": {
    "scrolled": true
   },
   "outputs": [
    {
     "name": "stdout",
     "output_type": "stream",
     "text": [
      "orders\n",
      "offices\n",
      "productlines\n",
      "orderdetails\n",
      "customers\n",
      "products\n",
      "payments\n",
      "employees\n"
     ]
    }
   ],
   "source": [
    "res = conn_44.execute(\"SELECT name FROM sqlite_master WHERE type='table';\")\n",
    "for name in res.fetchall():\n",
    "    print(name[0])"
   ]
  },
  {
   "cell_type": "markdown",
   "id": "42284fd3",
   "metadata": {},
   "source": [
    "###  Connecting to Database and <br>fetching the data with  Python SQLite\n",
    "https://origin.geeksforgeeks.org/python-sqlite-connecting-to-database/"
   ]
  },
  {
   "cell_type": "code",
   "execution_count": 32,
   "id": "c1758c35",
   "metadata": {
    "scrolled": true
   },
   "outputs": [
    {
     "name": "stdout",
     "output_type": "stream",
     "text": [
      "DB Init\n"
     ]
    }
   ],
   "source": [
    "cursor_44 = conn_44.cursor()\n",
    "print('DB Init')"
   ]
  },
  {
   "cell_type": "code",
   "execution_count": 33,
   "id": "539c8375",
   "metadata": {},
   "outputs": [],
   "source": [
    "cursor_44 = conn_44.execute('select * from orders')"
   ]
  },
  {
   "cell_type": "code",
   "execution_count": 34,
   "id": "d163ab4e",
   "metadata": {},
   "outputs": [
    {
     "data": {
      "text/plain": [
       "'orderNumber'"
      ]
     },
     "execution_count": 34,
     "metadata": {},
     "output_type": "execute_result"
    }
   ],
   "source": [
    "c_d = cursor_44.description\n",
    "c_d[0][0]"
   ]
  },
  {
   "cell_type": "code",
   "execution_count": 35,
   "id": "c9e11511",
   "metadata": {
    "scrolled": true
   },
   "outputs": [
    {
     "name": "stdout",
     "output_type": "stream",
     "text": [
      "orderNumber\n",
      "orderDate\n",
      "requiredDate\n",
      "shippedDate\n",
      "status\n",
      "comments\n",
      "customerNumber\n"
     ]
    }
   ],
   "source": [
    "order_col_names=[]\n",
    "\n",
    "for i in range(0,7):\n",
    "    print(cursor_44.description[i][0])\n",
    "    order_col_names.append(cursor_44.description[i][0])"
   ]
  },
  {
   "cell_type": "code",
   "execution_count": 36,
   "id": "0c08c763",
   "metadata": {
    "scrolled": true
   },
   "outputs": [],
   "source": [
    "query_44 = 'Select * From orders;'\n",
    "cursor_44.execute(query_44)\n",
    "result_44 = cursor_44.fetchall()\n"
   ]
  },
  {
   "cell_type": "code",
   "execution_count": 37,
   "id": "ef8c9424",
   "metadata": {
    "scrolled": true
   },
   "outputs": [
    {
     "name": "stdout",
     "output_type": "stream",
     "text": [
      "<class 'list'>\n",
      "326\n",
      "[('10100', '2003-01-06', '2003-01-13', '2003-01-10', 'Shipped', '', '363'), ('10101', '2003-01-09', '2003-01-18', '2003-01-11', 'Shipped', 'Check on availability.', '128'), ('10102', '2003-01-10', '2003-01-18', '2003-01-14', 'Shipped', '', '181'), ('10103', '2003-01-29', '2003-02-07', '2003-02-02', 'Shipped', '', '121'), ('10104', '2003-01-31', '2003-02-09', '2003-02-01', 'Shipped', '', '141')]\n"
     ]
    }
   ],
   "source": [
    "print(type(result_44))\n",
    "print(len(result_44))\n",
    "print(result_44[:5])"
   ]
  },
  {
   "cell_type": "code",
   "execution_count": 38,
   "id": "8759be17",
   "metadata": {
    "scrolled": true
   },
   "outputs": [
    {
     "name": "stdout",
     "output_type": "stream",
     "text": [
      "<class 'pandas.core.frame.DataFrame'>\n",
      "RangeIndex: 326 entries, 0 to 325\n",
      "Data columns (total 7 columns):\n",
      " #   Column          Non-Null Count  Dtype \n",
      "---  ------          --------------  ----- \n",
      " 0   orderNumber     326 non-null    object\n",
      " 1   orderDate       326 non-null    object\n",
      " 2   requiredDate    326 non-null    object\n",
      " 3   shippedDate     326 non-null    object\n",
      " 4   status          326 non-null    object\n",
      " 5   comments        326 non-null    object\n",
      " 6   customerNumber  326 non-null    object\n",
      "dtypes: object(7)\n",
      "memory usage: 18.0+ KB\n"
     ]
    }
   ],
   "source": [
    "df_orders=pd.DataFrame(result_44, columns=order_col_names)\n",
    "df_orders.info()"
   ]
  },
  {
   "cell_type": "code",
   "execution_count": 39,
   "id": "04533f69",
   "metadata": {
    "scrolled": true
   },
   "outputs": [
    {
     "data": {
      "text/plain": [
       "orderNumber       object\n",
       "orderDate         object\n",
       "requiredDate      object\n",
       "shippedDate       object\n",
       "status            object\n",
       "comments          object\n",
       "customerNumber    object\n",
       "dtype: object"
      ]
     },
     "execution_count": 39,
     "metadata": {},
     "output_type": "execute_result"
    }
   ],
   "source": [
    "df_orders.dtypes"
   ]
  },
  {
   "cell_type": "markdown",
   "id": "5208333d",
   "metadata": {},
   "source": [
    "<p>Data types are not correct.</p>"
   ]
  },
  {
   "cell_type": "code",
   "execution_count": 40,
   "id": "d540b89f",
   "metadata": {
    "scrolled": true
   },
   "outputs": [
    {
     "data": {
      "text/html": [
       "<div>\n",
       "<style scoped>\n",
       "    .dataframe tbody tr th:only-of-type {\n",
       "        vertical-align: middle;\n",
       "    }\n",
       "\n",
       "    .dataframe tbody tr th {\n",
       "        vertical-align: top;\n",
       "    }\n",
       "\n",
       "    .dataframe thead th {\n",
       "        text-align: right;\n",
       "    }\n",
       "</style>\n",
       "<table border=\"1\" class=\"dataframe\">\n",
       "  <thead>\n",
       "    <tr style=\"text-align: right;\">\n",
       "      <th></th>\n",
       "      <th>orderNumber</th>\n",
       "      <th>orderDate</th>\n",
       "      <th>requiredDate</th>\n",
       "      <th>shippedDate</th>\n",
       "      <th>status</th>\n",
       "      <th>comments</th>\n",
       "      <th>customerNumber</th>\n",
       "    </tr>\n",
       "  </thead>\n",
       "  <tbody>\n",
       "    <tr>\n",
       "      <th>0</th>\n",
       "      <td>10100</td>\n",
       "      <td>2003-01-06</td>\n",
       "      <td>2003-01-13</td>\n",
       "      <td>2003-01-10</td>\n",
       "      <td>Shipped</td>\n",
       "      <td></td>\n",
       "      <td>363</td>\n",
       "    </tr>\n",
       "    <tr>\n",
       "      <th>1</th>\n",
       "      <td>10101</td>\n",
       "      <td>2003-01-09</td>\n",
       "      <td>2003-01-18</td>\n",
       "      <td>2003-01-11</td>\n",
       "      <td>Shipped</td>\n",
       "      <td>Check on availability.</td>\n",
       "      <td>128</td>\n",
       "    </tr>\n",
       "  </tbody>\n",
       "</table>\n",
       "</div>"
      ],
      "text/plain": [
       "  orderNumber   orderDate requiredDate shippedDate   status  \\\n",
       "0       10100  2003-01-06   2003-01-13  2003-01-10  Shipped   \n",
       "1       10101  2003-01-09   2003-01-18  2003-01-11  Shipped   \n",
       "\n",
       "                 comments customerNumber  \n",
       "0                                    363  \n",
       "1  Check on availability.            128  "
      ]
     },
     "execution_count": 40,
     "metadata": {},
     "output_type": "execute_result"
    }
   ],
   "source": [
    "df_orders.head(2)"
   ]
  },
  {
   "cell_type": "markdown",
   "id": "a2c3fb22",
   "metadata": {},
   "source": [
    "#### Getting the column names with PRAGMA<br>"
   ]
  },
  {
   "cell_type": "code",
   "execution_count": 41,
   "id": "750477b5",
   "metadata": {
    "scrolled": true
   },
   "outputs": [],
   "source": [
    "schema_1=\\\n",
    "cursor_44.execute(\"PRAGMA table_info('orders')\").fetchall()"
   ]
  },
  {
   "cell_type": "code",
   "execution_count": 42,
   "id": "93bb3df7",
   "metadata": {
    "scrolled": true
   },
   "outputs": [
    {
     "data": {
      "text/plain": [
       "[(0, 'orderNumber', '', 0, None, 0),\n",
       " (1, 'orderDate', '', 0, None, 0),\n",
       " (2, 'requiredDate', '', 0, None, 0),\n",
       " (3, 'shippedDate', '', 0, None, 0),\n",
       " (4, 'status', '', 0, None, 0),\n",
       " (5, 'comments', '', 0, None, 0),\n",
       " (6, 'customerNumber', '', 0, None, 0)]"
      ]
     },
     "execution_count": 42,
     "metadata": {},
     "output_type": "execute_result"
    }
   ],
   "source": [
    "schema_1"
   ]
  },
  {
   "cell_type": "code",
   "execution_count": 43,
   "id": "b9d495cf",
   "metadata": {},
   "outputs": [
    {
     "data": {
      "text/html": [
       "\n",
       "\n",
       "<div class=\"myDiv\">\n",
       "  <h2>Database: Northwind</h2>\n",
       "        \n",
       "        <div class=\"myDiv_2\">\n",
       "        \n",
       "        <p>\n",
       "        \"The Northwind database is a sample database that was originally \n",
       "        created by Microsoft and used as the basis for their \n",
       "        tutorials in a variety of database products for decades. \n",
       "        The Northwind database contains the sales data for a \n",
       "        fictitious company called “Northwind Traders,” \n",
       "        which imports and exports specialty foods from around the world.\"<br>\n",
       "        <a href=\"https://docs.yugabyte.com/latest/sample-data/northwind/\" \n",
       "        target=\"_blank\">yugabyte</a> \n",
       "        </p>\n",
       "        \n",
       "        \n",
       "        <h2>Database schema</h2>\n",
       "        </div>\n",
       "</div>\n",
       "\n",
       "<img src=\"images/north.png\" \n",
       "alt=\"Smiley face\" height=\"600\" width=\"600\">   \n"
      ],
      "text/plain": [
       "<IPython.core.display.HTML object>"
      ]
     },
     "metadata": {},
     "output_type": "display_data"
    }
   ],
   "source": [
    "%%html\n",
    "\n",
    "\n",
    "<div class=\"myDiv\">\n",
    "  <h2>Database: Northwind</h2>\n",
    "        \n",
    "        <div class=\"myDiv_2\">\n",
    "        \n",
    "        <p>\n",
    "        \"The Northwind database is a sample database that was originally \n",
    "        created by Microsoft and used as the basis for their \n",
    "        tutorials in a variety of database products for decades. \n",
    "        The Northwind database contains the sales data for a \n",
    "        fictitious company called “Northwind Traders,” \n",
    "        which imports and exports specialty foods from around the world.\"<br>\n",
    "        <a href=\"https://docs.yugabyte.com/latest/sample-data/northwind/\" \n",
    "        target=\"_blank\">yugabyte</a> \n",
    "        </p>\n",
    "        \n",
    "        \n",
    "        <h2>Database schema</h2>\n",
    "        </div>\n",
    "</div>\n",
    "\n",
    "<img src=\"images/north.png\" \n",
    "alt=\"Smiley face\" height=\"600\" width=\"600\">   "
   ]
  },
  {
   "cell_type": "code",
   "execution_count": 44,
   "id": "5979437d",
   "metadata": {
    "scrolled": true
   },
   "outputs": [
    {
     "name": "stdout",
     "output_type": "stream",
     "text": [
      "Employee\n",
      "Category\n",
      "Customer\n",
      "Shipper\n",
      "Supplier\n",
      "Order\n",
      "Product\n",
      "OrderDetail\n",
      "CustomerCustomerDemo\n",
      "CustomerDemographic\n",
      "Region\n",
      "Territory\n",
      "EmployeeTerritory\n"
     ]
    }
   ],
   "source": [
    "northwind_conn = \\\n",
    "sqlite3.connect('databasefiles/northwind/Northwind_small.sqlite')\n",
    "\n",
    "res = \\\n",
    "northwind_conn.execute(\"SELECT name FROM sqlite_master WHERE type='table';\")\n",
    "for name in res.fetchall():\n",
    "    print(name[0])"
   ]
  },
  {
   "cell_type": "code",
   "execution_count": 45,
   "id": "a596ff7a",
   "metadata": {},
   "outputs": [
    {
     "data": {
      "text/html": [
       "\n",
       "<div class=\"myDiv\">\n",
       "  <h2>Database: HR</h2>\n",
       "        \n",
       "        <div class=\"myDiv_2\">\n",
       "        \n",
       "        <p>\n",
       "        A  SQL Sample Database called HR that manages the HR data of \n",
       "        the small businesses.\n",
       "        <br>\n",
       "        <a href=\"https://www.sqltutorial.org/sql-sample-database/\" \n",
       "        target=\"_blank\">sqltutorial</a> \n",
       "        </p>\n",
       "        \n",
       "        \n",
       "        <h2>Database schema</h2>\n",
       "        </div>\n",
       "</div>\n",
       "\n",
       "<img src=\"images/hr.png\" \n",
       "alt=\"Smiley face\" height=\"600\" width=\"600\">   \n"
      ],
      "text/plain": [
       "<IPython.core.display.HTML object>"
      ]
     },
     "metadata": {},
     "output_type": "display_data"
    }
   ],
   "source": [
    "%%html\n",
    "\n",
    "<div class=\"myDiv\">\n",
    "  <h2>Database: HR</h2>\n",
    "        \n",
    "        <div class=\"myDiv_2\">\n",
    "        \n",
    "        <p>\n",
    "        A  SQL Sample Database called HR that manages the HR data of \n",
    "        the small businesses.\n",
    "        <br>\n",
    "        <a href=\"https://www.sqltutorial.org/sql-sample-database/\" \n",
    "        target=\"_blank\">sqltutorial</a> \n",
    "        </p>\n",
    "        \n",
    "        \n",
    "        <h2>Database schema</h2>\n",
    "        </div>\n",
    "</div>\n",
    "\n",
    "<img src=\"images/hr.png\" \n",
    "alt=\"Smiley face\" height=\"600\" width=\"600\">   "
   ]
  },
  {
   "cell_type": "code",
   "execution_count": 46,
   "id": "7ee1a5f3",
   "metadata": {
    "scrolled": true
   },
   "outputs": [
    {
     "name": "stdout",
     "output_type": "stream",
     "text": [
      "demo\n",
      "regions\n",
      "sqlite_sequence\n",
      "countries\n",
      "locations\n",
      "departments\n",
      "jobs\n",
      "employees\n",
      "dependents\n"
     ]
    }
   ],
   "source": [
    "hr_conn = sqlite3.connect('databasefiles/hr_post/sqlite.db')\n",
    "\n",
    "res = \\\n",
    "hr_conn.execute(\"SELECT name FROM sqlite_master WHERE type='table';\")\n",
    "for name in res.fetchall():\n",
    "    print(name[0])"
   ]
  },
  {
   "cell_type": "markdown",
   "id": "836c6925",
   "metadata": {
    "scrolled": true
   },
   "source": [
    "# Querying datbases\n",
    "## Querying the movie_metadata database"
   ]
  },
  {
   "cell_type": "code",
   "execution_count": 47,
   "id": "c1fbb7f4",
   "metadata": {},
   "outputs": [
    {
     "data": {
      "text/html": [
       "\n",
       "<div class=\"myDiv\">\n",
       "  <h2>Database: films</h2>\n",
       "        \n",
       "        <div class=\"myDiv_2\">\n",
       "        \n",
       "        <p>\n",
       "        The movie_metadata (films) database contains information about\n",
       "        people, films, reviews, roles.<br>\n",
       "        The database is here used to do queries on one table without joining. \n",
       "        </p>\n",
       "        \n",
       "        \n",
       "        </div>\n",
       "</div>\n",
       "\n"
      ],
      "text/plain": [
       "<IPython.core.display.HTML object>"
      ]
     },
     "metadata": {},
     "output_type": "display_data"
    }
   ],
   "source": [
    "%%html\n",
    "\n",
    "<div class=\"myDiv\">\n",
    "  <h2>Database: films</h2>\n",
    "        \n",
    "        <div class=\"myDiv_2\">\n",
    "        \n",
    "        <p>\n",
    "        The movie_metadata (films) database contains information about\n",
    "        people, films, reviews, roles.<br>\n",
    "        The database is here used to do queries on one table without joining. \n",
    "        </p>\n",
    "        \n",
    "        \n",
    "        </div>\n",
    "</div>\n",
    "\n"
   ]
  },
  {
   "cell_type": "markdown",
   "id": "ffb0ce1d",
   "metadata": {},
   "source": [
    "### Fetching the data"
   ]
  },
  {
   "cell_type": "code",
   "execution_count": 48,
   "id": "c0ed6aec",
   "metadata": {},
   "outputs": [],
   "source": [
    "films_conn = sqlite3.connect('databasefiles/films/movie.sqlite')\n",
    "films_cursor = films_conn.cursor()"
   ]
  },
  {
   "cell_type": "code",
   "execution_count": 49,
   "id": "5f354604",
   "metadata": {},
   "outputs": [],
   "source": [
    "films_cursor.description"
   ]
  },
  {
   "cell_type": "markdown",
   "id": "0c4c830d",
   "metadata": {},
   "source": [
    "### Getting information about the database\n",
    "\n",
    "<p>Which SQLite? is used?</p>"
   ]
  },
  {
   "cell_type": "code",
   "execution_count": 50,
   "id": "9af23b19",
   "metadata": {},
   "outputs": [
    {
     "data": {
      "text/plain": [
       "[('3.36.0',)]"
      ]
     },
     "execution_count": 50,
     "metadata": {},
     "output_type": "execute_result"
    }
   ],
   "source": [
    "films_q_1 = 'select sqlite_version();'\n",
    "films_cursor.execute(films_q_1).fetchall()"
   ]
  },
  {
   "cell_type": "markdown",
   "id": "02439a1f",
   "metadata": {},
   "source": [
    "<p>Which tables are there?</p>"
   ]
  },
  {
   "cell_type": "code",
   "execution_count": 51,
   "id": "8302f84b",
   "metadata": {},
   "outputs": [
    {
     "name": "stdout",
     "output_type": "stream",
     "text": [
      "movie_metadata\n"
     ]
    }
   ],
   "source": [
    "films_tables = \\\n",
    "films_cursor.execute(\"SELECT name FROM sqlite_master \\\n",
    "                      WHERE type='table';\")\n",
    "\n",
    "for table in films_tables.fetchall():\n",
    "    print(table[0])"
   ]
  },
  {
   "cell_type": "markdown",
   "id": "585f3ca2",
   "metadata": {},
   "source": [
    "#### Getting the schema by applying PRAGMA.\n",
    "<p>\n",
    "which is the first thing to do, when quering databases.<br>\n",
    "Answering what is in there?</p>"
   ]
  },
  {
   "cell_type": "code",
   "execution_count": 52,
   "id": "7238c370",
   "metadata": {},
   "outputs": [
    {
     "data": {
      "text/plain": [
       "[]"
      ]
     },
     "execution_count": 52,
     "metadata": {},
     "output_type": "execute_result"
    }
   ],
   "source": [
    "films_schema=\\\n",
    "films_cursor.execute(\"PRAGMA schema\").fetchall()\n",
    "\n",
    "films_schema"
   ]
  },
  {
   "cell_type": "code",
   "execution_count": 53,
   "id": "d8ae7233",
   "metadata": {},
   "outputs": [
    {
     "data": {
      "text/plain": [
       "[(0, 'color', '', 0, None, 0),\n",
       " (1, 'director_name', '', 0, None, 0),\n",
       " (2, 'num_critic_for_reviews', '', 0, None, 0),\n",
       " (3, 'duration', '', 0, None, 0),\n",
       " (4, 'director_facebook_likes', '', 0, None, 0),\n",
       " (5, 'actor_3_facebook_likes', '', 0, None, 0),\n",
       " (6, 'actor_2_name', '', 0, None, 0),\n",
       " (7, 'actor_1_facebook_likes', '', 0, None, 0),\n",
       " (8, 'gross', '', 0, None, 0),\n",
       " (9, 'genres', '', 0, None, 0),\n",
       " (10, 'actor_1_name', '', 0, None, 0),\n",
       " (11, 'movie_title', '', 0, None, 0),\n",
       " (12, 'num_voted_users', '', 0, None, 0),\n",
       " (13, 'cast_total_facebook_likes', '', 0, None, 0),\n",
       " (14, 'actor_3_name', '', 0, None, 0),\n",
       " (15, 'facenumber_in_poster', '', 0, None, 0),\n",
       " (16, 'plot_keywords', '', 0, None, 0),\n",
       " (17, 'movie_imdb_link', '', 0, None, 0),\n",
       " (18, 'num_user_for_reviews', '', 0, None, 0),\n",
       " (19, 'language', '', 0, None, 0),\n",
       " (20, 'country', '', 0, None, 0),\n",
       " (21, 'content_rating', '', 0, None, 0),\n",
       " (22, 'budget', '', 0, None, 0),\n",
       " (23, 'title_year', '', 0, None, 0),\n",
       " (24, 'actor_2_facebook_likes', '', 0, None, 0),\n",
       " (25, 'imdb_score', '', 0, None, 0),\n",
       " (26, 'aspect_ratio', '', 0, None, 0),\n",
       " (27, 'movie_facebook_likes', '', 0, None, 0),\n",
       " (28, 'column_name', 'INTEGER', 0, None, 0)]"
      ]
     },
     "execution_count": 53,
     "metadata": {},
     "output_type": "execute_result"
    }
   ],
   "source": [
    "films_people_schema=\\\n",
    "films_conn.execute(\"PRAGMA table_info('movie_metadata')\").fetchall()\n",
    "\n",
    "films_people_schema"
   ]
  },
  {
   "cell_type": "markdown",
   "id": "0049af8f",
   "metadata": {},
   "source": [
    "#### Datatypes in SQLite\n",
    "\n",
    "<p>Info about the data types are not provided here<br>\n",
    "and not shown in the data.</p>\n",
    "\n",
    "<p>The col title_year is of type STR.<br>\n",
    "It should be of type INT.<br>\n",
    "Col types are immutable in SQLite.<br>\n",
    "There is not a direct way to change the datatype of a VAR.</p>"
   ]
  },
  {
   "cell_type": "markdown",
   "id": "22499503",
   "metadata": {},
   "source": [
    "<p>Alternatively</p>"
   ]
  },
  {
   "cell_type": "code",
   "execution_count": 54,
   "id": "3deb88e2",
   "metadata": {},
   "outputs": [
    {
     "name": "stdout",
     "output_type": "stream",
     "text": [
      "<class 'list'>\n",
      "<class 'tuple'>\n"
     ]
    },
    {
     "data": {
      "text/plain": [
       "('CREATE TABLE `movie_metadata` (`color`, `director_name`, `num_critic_for_reviews`, `duration`, `director_facebook_likes`, `actor_3_facebook_likes`, `actor_2_name`, `actor_1_facebook_likes`, `gross`, `genres`, `actor_1_name`, `movie_title`, `num_voted_users`, `cast_total_facebook_likes`, `actor_3_name`, `facenumber_in_poster`, `plot_keywords`, `movie_imdb_link`, `num_user_for_reviews`, `language`, `country`, `content_rating`, `budget`, `title_year`, `actor_2_facebook_likes`, `imdb_score`, `aspect_ratio`, `movie_facebook_likes`, column_name INTEGER)',)"
      ]
     },
     "execution_count": 54,
     "metadata": {},
     "output_type": "execute_result"
    }
   ],
   "source": [
    "films_q_sqlite_master=\\\n",
    "\"SELECT sql FROM sqlite_master WHERE name='movie_metadata'\"\n",
    "\n",
    "films_people_schema=\\\n",
    "films_conn.execute(films_q_sqlite_master).fetchall()\n",
    "\n",
    "print(type(films_people_schema))\n",
    "print(type(films_people_schema[0]))\n",
    "films_people_schema[0]"
   ]
  },
  {
   "cell_type": "markdown",
   "id": "f0d2e955",
   "metadata": {},
   "source": [
    "### Conducting queries"
   ]
  },
  {
   "cell_type": "markdown",
   "id": "ddc46cb9",
   "metadata": {},
   "source": [
    "#### SELECT all"
   ]
  },
  {
   "cell_type": "code",
   "execution_count": 55,
   "id": "4d004497",
   "metadata": {},
   "outputs": [
    {
     "data": {
      "text/plain": [
       "[('Color',\n",
       "  'James Cameron',\n",
       "  '723',\n",
       "  '178',\n",
       "  '0',\n",
       "  '855',\n",
       "  'Joel David Moore',\n",
       "  '1000',\n",
       "  '760505847',\n",
       "  'Action|Adventure|Fantasy|Sci-Fi',\n",
       "  'CCH Pounder',\n",
       "  'Avatar\\xa0',\n",
       "  '886204',\n",
       "  '4834',\n",
       "  'Wes Studi',\n",
       "  '0',\n",
       "  'avatar|future|marine|native|paraplegic',\n",
       "  'http://www.imdb.com/title/tt0499549/?ref_=fn_tt_tt_1',\n",
       "  '3054',\n",
       "  'English',\n",
       "  'USA',\n",
       "  'PG-13',\n",
       "  '237000000',\n",
       "  '2009',\n",
       "  '936',\n",
       "  '7.9',\n",
       "  '1.78',\n",
       "  '33000',\n",
       "  None)]"
      ]
     },
     "execution_count": 55,
     "metadata": {},
     "output_type": "execute_result"
    }
   ],
   "source": [
    "films_q_2 = 'SELECT * FROM movie_metadata '\n",
    "films_data = films_cursor.execute(films_q_2).fetchall()\n",
    "films_data[:1]"
   ]
  },
  {
   "cell_type": "code",
   "execution_count": 56,
   "id": "029413c7",
   "metadata": {},
   "outputs": [
    {
     "name": "stdout",
     "output_type": "stream",
     "text": [
      "<class 'list'>\n",
      "<class 'tuple'>\n",
      "('Color', 'James Cameron', '723', '178', '0', '855', 'Joel David Moore', '1000', '760505847', 'Action|Adventure|Fantasy|Sci-Fi', 'CCH Pounder', 'Avatar\\xa0', '886204', '4834', 'Wes Studi', '0', 'avatar|future|marine|native|paraplegic', 'http://www.imdb.com/title/tt0499549/?ref_=fn_tt_tt_1', '3054', 'English', 'USA', 'PG-13', '237000000', '2009', '936', '7.9', '1.78', '33000', None)\n"
     ]
    }
   ],
   "source": [
    "print(type(films_data))\n",
    "print(type(films_data[0]))\n",
    "print(films_data[0])"
   ]
  },
  {
   "cell_type": "markdown",
   "id": "a9e2e03a",
   "metadata": {},
   "source": [
    "#### Selecting"
   ]
  },
  {
   "cell_type": "code",
   "execution_count": 57,
   "id": "18162c66",
   "metadata": {},
   "outputs": [
    {
     "data": {
      "text/plain": [
       "[('James Cameron',),\n",
       " ('Gore Verbinski',),\n",
       " ('Sam Mendes',),\n",
       " ('Christopher Nolan',),\n",
       " ('Doug Walker',)]"
      ]
     },
     "execution_count": 57,
     "metadata": {},
     "output_type": "execute_result"
    }
   ],
   "source": [
    "films_q_singlecol = 'select director_name from movie_metadata'\n",
    "directors=films_cursor.execute(films_q_singlecol).fetchall()\n",
    "directors[:5]"
   ]
  },
  {
   "cell_type": "code",
   "execution_count": 58,
   "id": "f330d720",
   "metadata": {},
   "outputs": [
    {
     "data": {
      "text/plain": [
       "[('James Cameron', '0'),\n",
       " ('Gore Verbinski', '563'),\n",
       " ('Sam Mendes', '0'),\n",
       " ('Christopher Nolan', '22000'),\n",
       " ('Doug Walker', '131')]"
      ]
     },
     "execution_count": 58,
     "metadata": {},
     "output_type": "execute_result"
    }
   ],
   "source": [
    "films_q_multicols = \\\n",
    "'select director_name, director_facebook_likes from movie_metadata'\n",
    "directors_likes=films_cursor.execute(films_q_multicols ).fetchall()\n",
    "directors_likes[:5]"
   ]
  },
  {
   "cell_type": "markdown",
   "id": "d4a892d2",
   "metadata": {},
   "source": [
    "#### Distinct"
   ]
  },
  {
   "cell_type": "code",
   "execution_count": 59,
   "id": "73f71548",
   "metadata": {},
   "outputs": [
    {
     "data": {
      "text/plain": [
       "[('Joel David Moore',),\n",
       " ('Orlando Bloom',),\n",
       " ('Rory Kinnear',),\n",
       " ('Christian Bale',),\n",
       " ('Rob Walker',)]"
      ]
     },
     "execution_count": 59,
     "metadata": {},
     "output_type": "execute_result"
    }
   ],
   "source": [
    "films_q_distinct_actors = \\\n",
    "'select distinct(actor_2_name) from movie_metadata'\n",
    "distinct_actors=films_cursor.execute(films_q_distinct_actors).fetchall()\n",
    "distinct_actors[:5]"
   ]
  },
  {
   "cell_type": "code",
   "execution_count": 60,
   "id": "1eba08ea",
   "metadata": {},
   "outputs": [
    {
     "data": {
      "text/plain": [
       "[(5043,)]"
      ]
     },
     "execution_count": 60,
     "metadata": {},
     "output_type": "execute_result"
    }
   ],
   "source": [
    "films_q_count = \\\n",
    "'select COUNT(*) from movie_metadata'\n",
    "count_all=films_cursor.execute(films_q_count).fetchall()\n",
    "count_all[:5]"
   ]
  },
  {
   "cell_type": "markdown",
   "id": "530d2b45",
   "metadata": {},
   "source": [
    "#### Filtering with \"WHERE\""
   ]
  },
  {
   "cell_type": "code",
   "execution_count": 61,
   "id": "b1f1774d",
   "metadata": {},
   "outputs": [
    {
     "data": {
      "text/plain": [
       "[('David Leland', 'Italy'),\n",
       " ('Sergio Leone', 'Italy'),\n",
       " ('Liliana Cavani', 'Italy'),\n",
       " ('Giuseppe Tornatore', 'Italy'),\n",
       " ('Sergey Bondarchuk', 'Italy')]"
      ]
     },
     "execution_count": 61,
     "metadata": {},
     "output_type": "execute_result"
    }
   ],
   "source": [
    "films_q_italy = \\\n",
    "'select director_name, country from movie_metadata \\\n",
    " where country == \"Italy\"'\n",
    "italy=films_cursor.execute(films_q_italy).fetchall()\n",
    "italy[:5]"
   ]
  },
  {
   "cell_type": "code",
   "execution_count": 62,
   "id": "bdee0eb9",
   "metadata": {},
   "outputs": [
    {
     "data": {
      "text/plain": [
       "[('Avatar\\xa0', '237000000'),\n",
       " (\"Pirates of the Caribbean: At World's End\\xa0\", '300000000'),\n",
       " ('Spectre\\xa0', '245000000'),\n",
       " ('The Dark Knight Rises\\xa0', '250000000'),\n",
       " ('Star Wars: Episode VII - The Force Awakens\\xa0            ', '')]"
      ]
     },
     "execution_count": 62,
     "metadata": {},
     "output_type": "execute_result"
    }
   ],
   "source": [
    "films_q_budget = \\\n",
    "\"select movie_title, budget  from movie_metadata \\\n",
    "where budget> 10000000\"\n",
    "budget=films_cursor.execute(films_q_budget).fetchall()\n",
    "budget[:5]"
   ]
  },
  {
   "cell_type": "markdown",
   "id": "05231dfc",
   "metadata": {},
   "source": [
    "#### Filtering with WHERE using DISTINCT before"
   ]
  },
  {
   "cell_type": "code",
   "execution_count": 63,
   "id": "044753ec",
   "metadata": {},
   "outputs": [
    {
     "data": {
      "text/plain": [
       "[('2009',), ('2007',), ('2015',), ('2012',)]"
      ]
     },
     "execution_count": 63,
     "metadata": {},
     "output_type": "execute_result"
    }
   ],
   "source": [
    "films_q_eigthies = \\\n",
    "\"select distinct(title_year) from movie_metadata\"\n",
    "eigthies=films_cursor.execute(films_q_eigthies).fetchall()\n",
    "eigthies[:4]"
   ]
  },
  {
   "cell_type": "code",
   "execution_count": 64,
   "id": "e4de7dd2",
   "metadata": {},
   "outputs": [
    {
     "data": {
      "text/plain": [
       "[('The Trouble with Harry\\xa0', '1955'),\n",
       " ('Ordet\\xa0', '1955'),\n",
       " ('Avatar\\xa0', '2009'),\n",
       " ('Harry Potter and the Half-Blood Prince\\xa0', '2009'),\n",
       " ('Transformers: Revenge of the Fallen\\xa0', '2009')]"
      ]
     },
     "execution_count": 64,
     "metadata": {},
     "output_type": "execute_result"
    }
   ],
   "source": [
    "films_q_5509 = \\\n",
    "\"select movie_title, title_year from movie_metadata \\\n",
    "where (title_year = '1955') or (title_year = '2009') order by title_year\"\n",
    "q_5509=films_cursor.execute(films_q_5509).fetchall()\n",
    "q_5509[:5]"
   ]
  },
  {
   "cell_type": "code",
   "execution_count": 65,
   "id": "2d50649b",
   "metadata": {},
   "outputs": [
    {
     "data": {
      "text/plain": [
       "[('', 104),\n",
       " ('Steven Spielberg', 26),\n",
       " ('Woody Allen', 22),\n",
       " ('Martin Scorsese', 20),\n",
       " ('Clint Eastwood', 20),\n",
       " ('Ridley Scott', 17),\n",
       " ('Tim Burton', 16),\n",
       " ('Steven Soderbergh', 16),\n",
       " ('Spike Lee', 16),\n",
       " ('Renny Harlin', 15),\n",
       " ('Oliver Stone', 14)]"
      ]
     },
     "execution_count": 65,
     "metadata": {},
     "output_type": "execute_result"
    }
   ],
   "source": [
    "films_1_num_critic =\\\n",
    "\"SELECT director_name, COUNT(num_critic_for_reviews) AS n_reviews from movie_metadata \\\n",
    " GROUP BY(director_name) ORDER BY n_reviews DESC LIMIT 11\"\n",
    "\n",
    "num_critic_view = films_cursor.execute(films_1_num_critic).fetchall()\n",
    "num_critic_view"
   ]
  },
  {
   "cell_type": "code",
   "execution_count": 66,
   "id": "120a5fe6",
   "metadata": {},
   "outputs": [
    {
     "data": {
      "text/plain": [
       "[(104,)]"
      ]
     },
     "execution_count": 66,
     "metadata": {},
     "output_type": "execute_result"
    }
   ],
   "source": [
    "director_null = \"SELECT COUNT(director_name) AS n_missing_directors \\\n",
    "                 FROM movie_metadata \\\n",
    "                 WHERE director_name LIKE ''\"\n",
    "\n",
    "films_cursor.execute(director_null).fetchall()"
   ]
  },
  {
   "cell_type": "markdown",
   "id": "8d04fabe",
   "metadata": {},
   "source": [
    "### Getting information about the database"
   ]
  },
  {
   "cell_type": "markdown",
   "id": "355fa97f",
   "metadata": {},
   "source": [
    "### Building dataframes from SQL imports\n",
    "<p>\n",
    "Creating dataframes from the data fetched with Sqlite by<br>\n",
    "turning the tuple into a df and then below using pd.read_sql.\n",
    "</p>\n",
    "\n",
    "#### SELECT all"
   ]
  },
  {
   "cell_type": "code",
   "execution_count": 67,
   "id": "984b66ef",
   "metadata": {},
   "outputs": [
    {
     "data": {
      "text/plain": [
       "[('Color',\n",
       "  'James Cameron',\n",
       "  '723',\n",
       "  '178',\n",
       "  '0',\n",
       "  '855',\n",
       "  'Joel David Moore',\n",
       "  '1000',\n",
       "  '760505847',\n",
       "  'Action|Adventure|Fantasy|Sci-Fi',\n",
       "  'CCH Pounder',\n",
       "  'Avatar\\xa0',\n",
       "  '886204',\n",
       "  '4834',\n",
       "  'Wes Studi',\n",
       "  '0',\n",
       "  'avatar|future|marine|native|paraplegic',\n",
       "  'http://www.imdb.com/title/tt0499549/?ref_=fn_tt_tt_1',\n",
       "  '3054',\n",
       "  'English',\n",
       "  'USA',\n",
       "  'PG-13',\n",
       "  '237000000',\n",
       "  '2009',\n",
       "  '936',\n",
       "  '7.9',\n",
       "  '1.78',\n",
       "  '33000',\n",
       "  None)]"
      ]
     },
     "execution_count": 67,
     "metadata": {},
     "output_type": "execute_result"
    }
   ],
   "source": [
    "films_q_2 = 'SELECT * FROM movie_metadata '\n",
    "films_data = films_cursor.execute(films_q_2).fetchall()\n",
    "films_data[:1]"
   ]
  },
  {
   "cell_type": "code",
   "execution_count": 68,
   "id": "5eaf3960",
   "metadata": {},
   "outputs": [
    {
     "name": "stdout",
     "output_type": "stream",
     "text": [
      "<class 'list'>\n",
      "<class 'tuple'>\n",
      "('Color', 'James Cameron', '723', '178', '0', '855', 'Joel David Moore', '1000', '760505847', 'Action|Adventure|Fantasy|Sci-Fi', 'CCH Pounder', 'Avatar\\xa0', '886204', '4834', 'Wes Studi', '0', 'avatar|future|marine|native|paraplegic', 'http://www.imdb.com/title/tt0499549/?ref_=fn_tt_tt_1', '3054', 'English', 'USA', 'PG-13', '237000000', '2009', '936', '7.9', '1.78', '33000', None)\n"
     ]
    }
   ],
   "source": [
    "print(type(films_data))\n",
    "print(type(films_data[0]))\n",
    "print(films_data[0])"
   ]
  },
  {
   "cell_type": "code",
   "execution_count": 69,
   "id": "5ab45f4a",
   "metadata": {},
   "outputs": [
    {
     "name": "stdout",
     "output_type": "stream",
     "text": [
      "color\n",
      "director_name\n",
      "num_critic_for_reviews\n",
      "duration\n",
      "director_facebook_likes\n",
      "actor_3_facebook_likes\n",
      "actor_2_name\n",
      "actor_1_facebook_likes\n",
      "gross\n",
      "genres\n",
      "actor_1_name\n",
      "movie_title\n",
      "num_voted_users\n",
      "cast_total_facebook_likes\n",
      "actor_3_name\n",
      "facenumber_in_poster\n",
      "plot_keywords\n",
      "movie_imdb_link\n",
      "num_user_for_reviews\n",
      "language\n",
      "country\n",
      "content_rating\n",
      "budget\n",
      "title_year\n",
      "actor_2_facebook_likes\n",
      "imdb_score\n",
      "aspect_ratio\n",
      "movie_facebook_likes\n"
     ]
    }
   ],
   "source": [
    "movie_col_names=[]\n",
    "\n",
    "\n",
    "for i in range(0,28):\n",
    "    print(films_cursor.description[i][0])\n",
    "    movie_col_names.append(films_cursor.description[i][0])"
   ]
  },
  {
   "cell_type": "code",
   "execution_count": 70,
   "id": "2f27311e",
   "metadata": {},
   "outputs": [
    {
     "name": "stdout",
     "output_type": "stream",
     "text": [
      "28\n"
     ]
    }
   ],
   "source": [
    "print(len(movie_col_names))"
   ]
  },
  {
   "cell_type": "code",
   "execution_count": 71,
   "id": "680e3bc7",
   "metadata": {},
   "outputs": [
    {
     "name": "stdout",
     "output_type": "stream",
     "text": [
      "<class 'pandas.core.frame.DataFrame'>\n",
      "RangeIndex: 5043 entries, 0 to 5042\n",
      "Data columns (total 28 columns):\n",
      " #   Column                     Non-Null Count  Dtype \n",
      "---  ------                     --------------  ----- \n",
      " 0   color                      5043 non-null   object\n",
      " 1   director_name              5043 non-null   object\n",
      " 2   num_critic_for_reviews     5043 non-null   object\n",
      " 3   duration                   5043 non-null   object\n",
      " 4   director_facebook_likes    5043 non-null   object\n",
      " 5   actor_3_facebook_likes     5043 non-null   object\n",
      " 6   actor_2_name               5043 non-null   object\n",
      " 7   actor_1_facebook_likes     5043 non-null   object\n",
      " 8   gross                      5043 non-null   object\n",
      " 9   genres                     5043 non-null   object\n",
      " 10  actor_1_name               5043 non-null   object\n",
      " 11  movie_title                5043 non-null   object\n",
      " 12  num_voted_users            5043 non-null   object\n",
      " 13  cast_total_facebook_likes  5043 non-null   object\n",
      " 14  actor_3_name               5043 non-null   object\n",
      " 15  facenumber_in_poster       5043 non-null   object\n",
      " 16  plot_keywords              5043 non-null   object\n",
      " 17  movie_imdb_link            5043 non-null   object\n",
      " 18  num_user_for_reviews       5043 non-null   object\n",
      " 19  language                   5043 non-null   object\n",
      " 20  country                    5043 non-null   object\n",
      " 21  content_rating             5043 non-null   object\n",
      " 22  budget                     5043 non-null   object\n",
      " 23  title_year                 5043 non-null   object\n",
      " 24  actor_2_facebook_likes     5043 non-null   object\n",
      " 25  imdb_score                 5043 non-null   object\n",
      " 26  aspect_ratio               5043 non-null   object\n",
      " 27  movie_facebook_likes       5043 non-null   object\n",
      "dtypes: object(28)\n",
      "memory usage: 1.1+ MB\n"
     ]
    }
   ],
   "source": [
    "movies_df_1=\\\n",
    "pd.DataFrame(films_data).drop(28, axis=1)\n",
    "\n",
    "movies_df_1.columns = movie_col_names\n",
    "\n",
    "\n",
    "movies_df_1.info()"
   ]
  },
  {
   "cell_type": "code",
   "execution_count": 72,
   "id": "cf7df142",
   "metadata": {},
   "outputs": [
    {
     "data": {
      "text/html": [
       "<div>\n",
       "<style scoped>\n",
       "    .dataframe tbody tr th:only-of-type {\n",
       "        vertical-align: middle;\n",
       "    }\n",
       "\n",
       "    .dataframe tbody tr th {\n",
       "        vertical-align: top;\n",
       "    }\n",
       "\n",
       "    .dataframe thead th {\n",
       "        text-align: right;\n",
       "    }\n",
       "</style>\n",
       "<table border=\"1\" class=\"dataframe\">\n",
       "  <thead>\n",
       "    <tr style=\"text-align: right;\">\n",
       "      <th></th>\n",
       "      <th>color</th>\n",
       "      <th>director_name</th>\n",
       "      <th>num_critic_for_reviews</th>\n",
       "      <th>duration</th>\n",
       "      <th>director_facebook_likes</th>\n",
       "      <th>actor_3_facebook_likes</th>\n",
       "      <th>actor_2_name</th>\n",
       "      <th>actor_1_facebook_likes</th>\n",
       "      <th>gross</th>\n",
       "      <th>genres</th>\n",
       "      <th>...</th>\n",
       "      <th>num_user_for_reviews</th>\n",
       "      <th>language</th>\n",
       "      <th>country</th>\n",
       "      <th>content_rating</th>\n",
       "      <th>budget</th>\n",
       "      <th>title_year</th>\n",
       "      <th>actor_2_facebook_likes</th>\n",
       "      <th>imdb_score</th>\n",
       "      <th>aspect_ratio</th>\n",
       "      <th>movie_facebook_likes</th>\n",
       "    </tr>\n",
       "  </thead>\n",
       "  <tbody>\n",
       "    <tr>\n",
       "      <th>0</th>\n",
       "      <td>Color</td>\n",
       "      <td>James Cameron</td>\n",
       "      <td>723</td>\n",
       "      <td>178</td>\n",
       "      <td>0</td>\n",
       "      <td>855</td>\n",
       "      <td>Joel David Moore</td>\n",
       "      <td>1000</td>\n",
       "      <td>760505847</td>\n",
       "      <td>Action|Adventure|Fantasy|Sci-Fi</td>\n",
       "      <td>...</td>\n",
       "      <td>3054</td>\n",
       "      <td>English</td>\n",
       "      <td>USA</td>\n",
       "      <td>PG-13</td>\n",
       "      <td>237000000</td>\n",
       "      <td>2009</td>\n",
       "      <td>936</td>\n",
       "      <td>7.9</td>\n",
       "      <td>1.78</td>\n",
       "      <td>33000</td>\n",
       "    </tr>\n",
       "    <tr>\n",
       "      <th>1</th>\n",
       "      <td>Color</td>\n",
       "      <td>Gore Verbinski</td>\n",
       "      <td>302</td>\n",
       "      <td>169</td>\n",
       "      <td>563</td>\n",
       "      <td>1000</td>\n",
       "      <td>Orlando Bloom</td>\n",
       "      <td>40000</td>\n",
       "      <td>309404152</td>\n",
       "      <td>Action|Adventure|Fantasy</td>\n",
       "      <td>...</td>\n",
       "      <td>1238</td>\n",
       "      <td>English</td>\n",
       "      <td>USA</td>\n",
       "      <td>PG-13</td>\n",
       "      <td>300000000</td>\n",
       "      <td>2007</td>\n",
       "      <td>5000</td>\n",
       "      <td>7.1</td>\n",
       "      <td>2.35</td>\n",
       "      <td>0</td>\n",
       "    </tr>\n",
       "  </tbody>\n",
       "</table>\n",
       "<p>2 rows × 28 columns</p>\n",
       "</div>"
      ],
      "text/plain": [
       "   color   director_name num_critic_for_reviews duration  \\\n",
       "0  Color   James Cameron                    723      178   \n",
       "1  Color  Gore Verbinski                    302      169   \n",
       "\n",
       "  director_facebook_likes actor_3_facebook_likes      actor_2_name  \\\n",
       "0                       0                    855  Joel David Moore   \n",
       "1                     563                   1000     Orlando Bloom   \n",
       "\n",
       "  actor_1_facebook_likes      gross                           genres  ...  \\\n",
       "0                   1000  760505847  Action|Adventure|Fantasy|Sci-Fi  ...   \n",
       "1                  40000  309404152         Action|Adventure|Fantasy  ...   \n",
       "\n",
       "  num_user_for_reviews language country content_rating     budget title_year  \\\n",
       "0                 3054  English     USA          PG-13  237000000       2009   \n",
       "1                 1238  English     USA          PG-13  300000000       2007   \n",
       "\n",
       "  actor_2_facebook_likes imdb_score aspect_ratio movie_facebook_likes  \n",
       "0                    936        7.9         1.78                33000  \n",
       "1                   5000        7.1         2.35                    0  \n",
       "\n",
       "[2 rows x 28 columns]"
      ]
     },
     "execution_count": 72,
     "metadata": {},
     "output_type": "execute_result"
    }
   ],
   "source": [
    "movies_df_1.head(2)"
   ]
  },
  {
   "cell_type": "markdown",
   "id": "c548cacc",
   "metadata": {},
   "source": [
    "#### pd.read_sql"
   ]
  },
  {
   "cell_type": "code",
   "execution_count": 73,
   "id": "260b4d4b",
   "metadata": {},
   "outputs": [
    {
     "data": {
      "text/html": [
       "<div>\n",
       "<style scoped>\n",
       "    .dataframe tbody tr th:only-of-type {\n",
       "        vertical-align: middle;\n",
       "    }\n",
       "\n",
       "    .dataframe tbody tr th {\n",
       "        vertical-align: top;\n",
       "    }\n",
       "\n",
       "    .dataframe thead th {\n",
       "        text-align: right;\n",
       "    }\n",
       "</style>\n",
       "<table border=\"1\" class=\"dataframe\">\n",
       "  <thead>\n",
       "    <tr style=\"text-align: right;\">\n",
       "      <th></th>\n",
       "      <th>color</th>\n",
       "      <th>director_name</th>\n",
       "      <th>num_critic_for_reviews</th>\n",
       "      <th>duration</th>\n",
       "      <th>director_facebook_likes</th>\n",
       "      <th>actor_3_facebook_likes</th>\n",
       "      <th>actor_2_name</th>\n",
       "      <th>actor_1_facebook_likes</th>\n",
       "      <th>gross</th>\n",
       "      <th>genres</th>\n",
       "      <th>...</th>\n",
       "      <th>language</th>\n",
       "      <th>country</th>\n",
       "      <th>content_rating</th>\n",
       "      <th>budget</th>\n",
       "      <th>title_year</th>\n",
       "      <th>actor_2_facebook_likes</th>\n",
       "      <th>imdb_score</th>\n",
       "      <th>aspect_ratio</th>\n",
       "      <th>movie_facebook_likes</th>\n",
       "      <th>column_name</th>\n",
       "    </tr>\n",
       "  </thead>\n",
       "  <tbody>\n",
       "    <tr>\n",
       "      <th>0</th>\n",
       "      <td>Color</td>\n",
       "      <td>James Cameron</td>\n",
       "      <td>723</td>\n",
       "      <td>178</td>\n",
       "      <td>0</td>\n",
       "      <td>855</td>\n",
       "      <td>Joel David Moore</td>\n",
       "      <td>1000</td>\n",
       "      <td>760505847</td>\n",
       "      <td>Action|Adventure|Fantasy|Sci-Fi</td>\n",
       "      <td>...</td>\n",
       "      <td>English</td>\n",
       "      <td>USA</td>\n",
       "      <td>PG-13</td>\n",
       "      <td>237000000</td>\n",
       "      <td>2009</td>\n",
       "      <td>936</td>\n",
       "      <td>7.9</td>\n",
       "      <td>1.78</td>\n",
       "      <td>33000</td>\n",
       "      <td>None</td>\n",
       "    </tr>\n",
       "    <tr>\n",
       "      <th>1</th>\n",
       "      <td>Color</td>\n",
       "      <td>Gore Verbinski</td>\n",
       "      <td>302</td>\n",
       "      <td>169</td>\n",
       "      <td>563</td>\n",
       "      <td>1000</td>\n",
       "      <td>Orlando Bloom</td>\n",
       "      <td>40000</td>\n",
       "      <td>309404152</td>\n",
       "      <td>Action|Adventure|Fantasy</td>\n",
       "      <td>...</td>\n",
       "      <td>English</td>\n",
       "      <td>USA</td>\n",
       "      <td>PG-13</td>\n",
       "      <td>300000000</td>\n",
       "      <td>2007</td>\n",
       "      <td>5000</td>\n",
       "      <td>7.1</td>\n",
       "      <td>2.35</td>\n",
       "      <td>0</td>\n",
       "      <td>None</td>\n",
       "    </tr>\n",
       "    <tr>\n",
       "      <th>2</th>\n",
       "      <td>Color</td>\n",
       "      <td>Sam Mendes</td>\n",
       "      <td>602</td>\n",
       "      <td>148</td>\n",
       "      <td>0</td>\n",
       "      <td>161</td>\n",
       "      <td>Rory Kinnear</td>\n",
       "      <td>11000</td>\n",
       "      <td>200074175</td>\n",
       "      <td>Action|Adventure|Thriller</td>\n",
       "      <td>...</td>\n",
       "      <td>English</td>\n",
       "      <td>UK</td>\n",
       "      <td>PG-13</td>\n",
       "      <td>245000000</td>\n",
       "      <td>2015</td>\n",
       "      <td>393</td>\n",
       "      <td>6.8</td>\n",
       "      <td>2.35</td>\n",
       "      <td>85000</td>\n",
       "      <td>None</td>\n",
       "    </tr>\n",
       "    <tr>\n",
       "      <th>3</th>\n",
       "      <td>Color</td>\n",
       "      <td>Christopher Nolan</td>\n",
       "      <td>813</td>\n",
       "      <td>164</td>\n",
       "      <td>22000</td>\n",
       "      <td>23000</td>\n",
       "      <td>Christian Bale</td>\n",
       "      <td>27000</td>\n",
       "      <td>448130642</td>\n",
       "      <td>Action|Thriller</td>\n",
       "      <td>...</td>\n",
       "      <td>English</td>\n",
       "      <td>USA</td>\n",
       "      <td>PG-13</td>\n",
       "      <td>250000000</td>\n",
       "      <td>2012</td>\n",
       "      <td>23000</td>\n",
       "      <td>8.5</td>\n",
       "      <td>2.35</td>\n",
       "      <td>164000</td>\n",
       "      <td>None</td>\n",
       "    </tr>\n",
       "    <tr>\n",
       "      <th>4</th>\n",
       "      <td></td>\n",
       "      <td>Doug Walker</td>\n",
       "      <td></td>\n",
       "      <td></td>\n",
       "      <td>131</td>\n",
       "      <td></td>\n",
       "      <td>Rob Walker</td>\n",
       "      <td>131</td>\n",
       "      <td></td>\n",
       "      <td>Documentary</td>\n",
       "      <td>...</td>\n",
       "      <td></td>\n",
       "      <td></td>\n",
       "      <td></td>\n",
       "      <td></td>\n",
       "      <td></td>\n",
       "      <td>12</td>\n",
       "      <td>7.1</td>\n",
       "      <td></td>\n",
       "      <td>0</td>\n",
       "      <td>None</td>\n",
       "    </tr>\n",
       "    <tr>\n",
       "      <th>5</th>\n",
       "      <td>Color</td>\n",
       "      <td>Andrew Stanton</td>\n",
       "      <td>462</td>\n",
       "      <td>132</td>\n",
       "      <td>475</td>\n",
       "      <td>530</td>\n",
       "      <td>Samantha Morton</td>\n",
       "      <td>640</td>\n",
       "      <td>73058679</td>\n",
       "      <td>Action|Adventure|Sci-Fi</td>\n",
       "      <td>...</td>\n",
       "      <td>English</td>\n",
       "      <td>USA</td>\n",
       "      <td>PG-13</td>\n",
       "      <td>263700000</td>\n",
       "      <td>2012</td>\n",
       "      <td>632</td>\n",
       "      <td>6.6</td>\n",
       "      <td>2.35</td>\n",
       "      <td>24000</td>\n",
       "      <td>None</td>\n",
       "    </tr>\n",
       "    <tr>\n",
       "      <th>6</th>\n",
       "      <td>Color</td>\n",
       "      <td>Sam Raimi</td>\n",
       "      <td>392</td>\n",
       "      <td>156</td>\n",
       "      <td>0</td>\n",
       "      <td>4000</td>\n",
       "      <td>James Franco</td>\n",
       "      <td>24000</td>\n",
       "      <td>336530303</td>\n",
       "      <td>Action|Adventure|Romance</td>\n",
       "      <td>...</td>\n",
       "      <td>English</td>\n",
       "      <td>USA</td>\n",
       "      <td>PG-13</td>\n",
       "      <td>258000000</td>\n",
       "      <td>2007</td>\n",
       "      <td>11000</td>\n",
       "      <td>6.2</td>\n",
       "      <td>2.35</td>\n",
       "      <td>0</td>\n",
       "      <td>None</td>\n",
       "    </tr>\n",
       "    <tr>\n",
       "      <th>7</th>\n",
       "      <td>Color</td>\n",
       "      <td>Nathan Greno</td>\n",
       "      <td>324</td>\n",
       "      <td>100</td>\n",
       "      <td>15</td>\n",
       "      <td>284</td>\n",
       "      <td>Donna Murphy</td>\n",
       "      <td>799</td>\n",
       "      <td>200807262</td>\n",
       "      <td>Adventure|Animation|Comedy|Family|Fantasy|Musi...</td>\n",
       "      <td>...</td>\n",
       "      <td>English</td>\n",
       "      <td>USA</td>\n",
       "      <td>PG</td>\n",
       "      <td>260000000</td>\n",
       "      <td>2010</td>\n",
       "      <td>553</td>\n",
       "      <td>7.8</td>\n",
       "      <td>1.85</td>\n",
       "      <td>29000</td>\n",
       "      <td>None</td>\n",
       "    </tr>\n",
       "    <tr>\n",
       "      <th>8</th>\n",
       "      <td>Color</td>\n",
       "      <td>Joss Whedon</td>\n",
       "      <td>635</td>\n",
       "      <td>141</td>\n",
       "      <td>0</td>\n",
       "      <td>19000</td>\n",
       "      <td>Robert Downey Jr.</td>\n",
       "      <td>26000</td>\n",
       "      <td>458991599</td>\n",
       "      <td>Action|Adventure|Sci-Fi</td>\n",
       "      <td>...</td>\n",
       "      <td>English</td>\n",
       "      <td>USA</td>\n",
       "      <td>PG-13</td>\n",
       "      <td>250000000</td>\n",
       "      <td>2015</td>\n",
       "      <td>21000</td>\n",
       "      <td>7.5</td>\n",
       "      <td>2.35</td>\n",
       "      <td>118000</td>\n",
       "      <td>None</td>\n",
       "    </tr>\n",
       "    <tr>\n",
       "      <th>9</th>\n",
       "      <td>Color</td>\n",
       "      <td>David Yates</td>\n",
       "      <td>375</td>\n",
       "      <td>153</td>\n",
       "      <td>282</td>\n",
       "      <td>10000</td>\n",
       "      <td>Daniel Radcliffe</td>\n",
       "      <td>25000</td>\n",
       "      <td>301956980</td>\n",
       "      <td>Adventure|Family|Fantasy|Mystery</td>\n",
       "      <td>...</td>\n",
       "      <td>English</td>\n",
       "      <td>UK</td>\n",
       "      <td>PG</td>\n",
       "      <td>250000000</td>\n",
       "      <td>2009</td>\n",
       "      <td>11000</td>\n",
       "      <td>7.5</td>\n",
       "      <td>2.35</td>\n",
       "      <td>10000</td>\n",
       "      <td>None</td>\n",
       "    </tr>\n",
       "  </tbody>\n",
       "</table>\n",
       "<p>10 rows × 29 columns</p>\n",
       "</div>"
      ],
      "text/plain": [
       "   color      director_name num_critic_for_reviews duration  \\\n",
       "0  Color      James Cameron                    723      178   \n",
       "1  Color     Gore Verbinski                    302      169   \n",
       "2  Color         Sam Mendes                    602      148   \n",
       "3  Color  Christopher Nolan                    813      164   \n",
       "4               Doug Walker                                   \n",
       "5  Color     Andrew Stanton                    462      132   \n",
       "6  Color          Sam Raimi                    392      156   \n",
       "7  Color       Nathan Greno                    324      100   \n",
       "8  Color        Joss Whedon                    635      141   \n",
       "9  Color        David Yates                    375      153   \n",
       "\n",
       "  director_facebook_likes actor_3_facebook_likes       actor_2_name  \\\n",
       "0                       0                    855   Joel David Moore   \n",
       "1                     563                   1000      Orlando Bloom   \n",
       "2                       0                    161       Rory Kinnear   \n",
       "3                   22000                  23000     Christian Bale   \n",
       "4                     131                                Rob Walker   \n",
       "5                     475                    530    Samantha Morton   \n",
       "6                       0                   4000       James Franco   \n",
       "7                      15                    284       Donna Murphy   \n",
       "8                       0                  19000  Robert Downey Jr.   \n",
       "9                     282                  10000   Daniel Radcliffe   \n",
       "\n",
       "  actor_1_facebook_likes      gross  \\\n",
       "0                   1000  760505847   \n",
       "1                  40000  309404152   \n",
       "2                  11000  200074175   \n",
       "3                  27000  448130642   \n",
       "4                    131              \n",
       "5                    640   73058679   \n",
       "6                  24000  336530303   \n",
       "7                    799  200807262   \n",
       "8                  26000  458991599   \n",
       "9                  25000  301956980   \n",
       "\n",
       "                                              genres  ... language country  \\\n",
       "0                    Action|Adventure|Fantasy|Sci-Fi  ...  English     USA   \n",
       "1                           Action|Adventure|Fantasy  ...  English     USA   \n",
       "2                          Action|Adventure|Thriller  ...  English      UK   \n",
       "3                                    Action|Thriller  ...  English     USA   \n",
       "4                                        Documentary  ...                    \n",
       "5                            Action|Adventure|Sci-Fi  ...  English     USA   \n",
       "6                           Action|Adventure|Romance  ...  English     USA   \n",
       "7  Adventure|Animation|Comedy|Family|Fantasy|Musi...  ...  English     USA   \n",
       "8                            Action|Adventure|Sci-Fi  ...  English     USA   \n",
       "9                   Adventure|Family|Fantasy|Mystery  ...  English      UK   \n",
       "\n",
       "  content_rating     budget title_year actor_2_facebook_likes imdb_score  \\\n",
       "0          PG-13  237000000       2009                    936        7.9   \n",
       "1          PG-13  300000000       2007                   5000        7.1   \n",
       "2          PG-13  245000000       2015                    393        6.8   \n",
       "3          PG-13  250000000       2012                  23000        8.5   \n",
       "4                                                          12        7.1   \n",
       "5          PG-13  263700000       2012                    632        6.6   \n",
       "6          PG-13  258000000       2007                  11000        6.2   \n",
       "7             PG  260000000       2010                    553        7.8   \n",
       "8          PG-13  250000000       2015                  21000        7.5   \n",
       "9             PG  250000000       2009                  11000        7.5   \n",
       "\n",
       "  aspect_ratio movie_facebook_likes column_name  \n",
       "0         1.78                33000        None  \n",
       "1         2.35                    0        None  \n",
       "2         2.35                85000        None  \n",
       "3         2.35               164000        None  \n",
       "4                                 0        None  \n",
       "5         2.35                24000        None  \n",
       "6         2.35                    0        None  \n",
       "7         1.85                29000        None  \n",
       "8         2.35               118000        None  \n",
       "9         2.35                10000        None  \n",
       "\n",
       "[10 rows x 29 columns]"
      ]
     },
     "execution_count": 73,
     "metadata": {},
     "output_type": "execute_result"
    }
   ],
   "source": [
    "movies_df_2=pd.read_sql(films_q_2 , con=films_conn )\n",
    "movies_df_2.head(10)"
   ]
  },
  {
   "cell_type": "markdown",
   "id": "a08ca8b6",
   "metadata": {},
   "source": [
    "#### Data cleaning"
   ]
  },
  {
   "cell_type": "code",
   "execution_count": 74,
   "id": "713aac36",
   "metadata": {},
   "outputs": [],
   "source": [
    "movies_df_3 = movies_df_2.copy()\n",
    "movies_df_3.replace(\"Color\", '0', inplace=True)\n",
    "movies_df_3.replace(\"\", '0', inplace=True)\n",
    "movies_df_3.fillna('0', inplace=True)\n",
    "# movies_df_3.replace(to_replace=' ', value=\"0\", inplace=True)\n"
   ]
  },
  {
   "cell_type": "code",
   "execution_count": 75,
   "id": "4e296600",
   "metadata": {},
   "outputs": [
    {
     "name": "stdout",
     "output_type": "stream",
     "text": [
      "(5043, 14)\n"
     ]
    }
   ],
   "source": [
    "movies_subset=\\\n",
    "movies_df_3.iloc[:,np.r_[3:6, 7:9, 12:14, 15, 18, 22:27]]\n",
    "\n",
    "print(movies_subset.shape)"
   ]
  },
  {
   "cell_type": "code",
   "execution_count": 76,
   "id": "e8631bd5",
   "metadata": {},
   "outputs": [],
   "source": [
    "movie_cols=\\\n",
    "movies_df_3.iloc[:, [2,3,4,5,6,7,8, 12,13,14,15,18,22,23,24,25,26,27]].\\\n",
    "columns.tolist()"
   ]
  },
  {
   "cell_type": "code",
   "execution_count": 77,
   "id": "c3235705",
   "metadata": {},
   "outputs": [],
   "source": [
    "movies_df_3[movie_cols]=\\\n",
    "movies_df_3[movie_cols].apply(pd.to_numeric, errors='coerce', axis=1)"
   ]
  },
  {
   "cell_type": "code",
   "execution_count": 78,
   "id": "1258007c",
   "metadata": {},
   "outputs": [
    {
     "name": "stdout",
     "output_type": "stream",
     "text": [
      "<class 'pandas.core.frame.DataFrame'>\n",
      "RangeIndex: 5043 entries, 0 to 5042\n",
      "Data columns (total 29 columns):\n",
      " #   Column                     Non-Null Count  Dtype  \n",
      "---  ------                     --------------  -----  \n",
      " 0   color                      5043 non-null   object \n",
      " 1   director_name              5043 non-null   object \n",
      " 2   num_critic_for_reviews     5043 non-null   float64\n",
      " 3   duration                   5043 non-null   float64\n",
      " 4   director_facebook_likes    5043 non-null   float64\n",
      " 5   actor_3_facebook_likes     5043 non-null   float64\n",
      " 6   actor_2_name               13 non-null     float64\n",
      " 7   actor_1_facebook_likes     5043 non-null   float64\n",
      " 8   gross                      5043 non-null   float64\n",
      " 9   genres                     5043 non-null   object \n",
      " 10  actor_1_name               5043 non-null   object \n",
      " 11  movie_title                5043 non-null   object \n",
      " 12  num_voted_users            5043 non-null   float64\n",
      " 13  cast_total_facebook_likes  5043 non-null   float64\n",
      " 14  actor_3_name               23 non-null     float64\n",
      " 15  facenumber_in_poster       5043 non-null   float64\n",
      " 16  plot_keywords              5043 non-null   object \n",
      " 17  movie_imdb_link            5043 non-null   object \n",
      " 18  num_user_for_reviews       5043 non-null   float64\n",
      " 19  language                   5043 non-null   object \n",
      " 20  country                    5043 non-null   object \n",
      " 21  content_rating             5043 non-null   object \n",
      " 22  budget                     5043 non-null   float64\n",
      " 23  title_year                 5043 non-null   float64\n",
      " 24  actor_2_facebook_likes     5043 non-null   float64\n",
      " 25  imdb_score                 5043 non-null   float64\n",
      " 26  aspect_ratio               5043 non-null   float64\n",
      " 27  movie_facebook_likes       5043 non-null   float64\n",
      " 28  column_name                5043 non-null   object \n",
      "dtypes: float64(18), object(11)\n",
      "memory usage: 1.1+ MB\n"
     ]
    }
   ],
   "source": [
    "movies_df_3.info()"
   ]
  },
  {
   "cell_type": "code",
   "execution_count": 79,
   "id": "6eeeff64",
   "metadata": {},
   "outputs": [
    {
     "name": "stdout",
     "output_type": "stream",
     "text": [
      "<class 'pandas.core.frame.DataFrame'>\n",
      "RangeIndex: 5043 entries, 0 to 5042\n",
      "Data columns (total 29 columns):\n",
      " #   Column                     Non-Null Count  Dtype  \n",
      "---  ------                     --------------  -----  \n",
      " 0   color                      5043 non-null   object \n",
      " 1   director_name              5043 non-null   object \n",
      " 2   num_critic_for_reviews     5043 non-null   float64\n",
      " 3   duration                   5043 non-null   float64\n",
      " 4   director_facebook_likes    5043 non-null   float64\n",
      " 5   actor_3_facebook_likes     5043 non-null   float64\n",
      " 6   actor_2_name               13 non-null     float64\n",
      " 7   actor_1_facebook_likes     5043 non-null   float64\n",
      " 8   gross                      5043 non-null   float64\n",
      " 9   genres                     5043 non-null   object \n",
      " 10  actor_1_name               5043 non-null   object \n",
      " 11  movie_title                5043 non-null   object \n",
      " 12  num_voted_users            5043 non-null   float64\n",
      " 13  cast_total_facebook_likes  5043 non-null   float64\n",
      " 14  actor_3_name               23 non-null     float64\n",
      " 15  facenumber_in_poster       5043 non-null   float64\n",
      " 16  plot_keywords              5043 non-null   object \n",
      " 17  movie_imdb_link            5043 non-null   object \n",
      " 18  num_user_for_reviews       5043 non-null   float64\n",
      " 19  language                   5043 non-null   object \n",
      " 20  country                    5043 non-null   object \n",
      " 21  content_rating             5043 non-null   object \n",
      " 22  budget                     5043 non-null   float64\n",
      " 23  title_year                 5043 non-null   float64\n",
      " 24  actor_2_facebook_likes     5043 non-null   float64\n",
      " 25  imdb_score                 5043 non-null   float64\n",
      " 26  aspect_ratio               5043 non-null   float64\n",
      " 27  movie_facebook_likes       5043 non-null   float64\n",
      " 28  column_name                5043 non-null   object \n",
      "dtypes: float64(18), object(11)\n",
      "memory usage: 1.1+ MB\n",
      "None\n"
     ]
    }
   ],
   "source": [
    "# print(movies_df_3.iloc[:,np.r_[3:6, 7:9, 12:14, 15, 18, 22:27]].info())\n",
    "print(movies_df_3.info())"
   ]
  },
  {
   "cell_type": "markdown",
   "id": "2fb2f9b3",
   "metadata": {},
   "source": [
    "#### Querying data frames with pandas_sql"
   ]
  },
  {
   "cell_type": "code",
   "execution_count": 80,
   "id": "a2724a14",
   "metadata": {},
   "outputs": [
    {
     "name": "stdout",
     "output_type": "stream",
     "text": [
      "movies\n",
      "<class 'pandas.core.frame.DataFrame'>\n",
      "<class 'pandas.core.frame.DataFrame'>\n"
     ]
    }
   ],
   "source": [
    "movies_obj = SQLquery('movies', movies_df_3)\n",
    "\n",
    "movies_df_obj=movies_obj.df\n",
    "\n",
    "print(movies_obj.name)\n",
    "print(type(movies_obj.df))\n",
    "print(type(movies_df_obj))"
   ]
  },
  {
   "cell_type": "code",
   "execution_count": 81,
   "id": "75550a5f",
   "metadata": {},
   "outputs": [],
   "source": [
    "mov_greater=\"\"\"select * from movies_df_3 where duration >= 200\"\"\""
   ]
  },
  {
   "cell_type": "code",
   "execution_count": 82,
   "id": "b4a40638",
   "metadata": {},
   "outputs": [
    {
     "name": "stdout",
     "output_type": "stream",
     "text": [
      "<class 'pandas.core.frame.DataFrame'>\n"
     ]
    },
    {
     "data": {
      "text/html": [
       "<div>\n",
       "<style scoped>\n",
       "    .dataframe tbody tr th:only-of-type {\n",
       "        vertical-align: middle;\n",
       "    }\n",
       "\n",
       "    .dataframe tbody tr th {\n",
       "        vertical-align: top;\n",
       "    }\n",
       "\n",
       "    .dataframe thead th {\n",
       "        text-align: right;\n",
       "    }\n",
       "</style>\n",
       "<table border=\"1\" class=\"dataframe\">\n",
       "  <thead>\n",
       "    <tr style=\"text-align: right;\">\n",
       "      <th></th>\n",
       "      <th>color</th>\n",
       "      <th>director_name</th>\n",
       "      <th>num_critic_for_reviews</th>\n",
       "      <th>duration</th>\n",
       "      <th>director_facebook_likes</th>\n",
       "      <th>actor_3_facebook_likes</th>\n",
       "      <th>actor_2_name</th>\n",
       "      <th>actor_1_facebook_likes</th>\n",
       "      <th>gross</th>\n",
       "      <th>genres</th>\n",
       "      <th>...</th>\n",
       "      <th>language</th>\n",
       "      <th>country</th>\n",
       "      <th>content_rating</th>\n",
       "      <th>budget</th>\n",
       "      <th>title_year</th>\n",
       "      <th>actor_2_facebook_likes</th>\n",
       "      <th>imdb_score</th>\n",
       "      <th>aspect_ratio</th>\n",
       "      <th>movie_facebook_likes</th>\n",
       "      <th>column_name</th>\n",
       "    </tr>\n",
       "  </thead>\n",
       "  <tbody>\n",
       "    <tr>\n",
       "      <th>0</th>\n",
       "      <td>0</td>\n",
       "      <td>Peter Jackson</td>\n",
       "      <td>446.0</td>\n",
       "      <td>201.0</td>\n",
       "      <td>0.0</td>\n",
       "      <td>84.0</td>\n",
       "      <td>None</td>\n",
       "      <td>6000.0</td>\n",
       "      <td>218051260.0</td>\n",
       "      <td>Action|Adventure|Drama|Romance</td>\n",
       "      <td>...</td>\n",
       "      <td>English</td>\n",
       "      <td>New Zealand</td>\n",
       "      <td>PG-13</td>\n",
       "      <td>207000000.0</td>\n",
       "      <td>2005.0</td>\n",
       "      <td>919.0</td>\n",
       "      <td>7.2</td>\n",
       "      <td>2.35</td>\n",
       "      <td>0.0</td>\n",
       "      <td>0</td>\n",
       "    </tr>\n",
       "  </tbody>\n",
       "</table>\n",
       "<p>1 rows × 29 columns</p>\n",
       "</div>"
      ],
      "text/plain": [
       "  color  director_name  num_critic_for_reviews  duration  \\\n",
       "0     0  Peter Jackson                   446.0     201.0   \n",
       "\n",
       "   director_facebook_likes  actor_3_facebook_likes actor_2_name  \\\n",
       "0                      0.0                    84.0         None   \n",
       "\n",
       "   actor_1_facebook_likes        gross                          genres  ...  \\\n",
       "0                  6000.0  218051260.0  Action|Adventure|Drama|Romance  ...   \n",
       "\n",
       "  language      country  content_rating       budget title_year  \\\n",
       "0  English  New Zealand           PG-13  207000000.0     2005.0   \n",
       "\n",
       "   actor_2_facebook_likes imdb_score aspect_ratio  movie_facebook_likes  \\\n",
       "0                   919.0        7.2         2.35                   0.0   \n",
       "\n",
       "  column_name  \n",
       "0           0  \n",
       "\n",
       "[1 rows x 29 columns]"
      ]
     },
     "execution_count": 82,
     "metadata": {},
     "output_type": "execute_result"
    }
   ],
   "source": [
    "mov_1=movies_obj.sqlquery_command(mov_greater)\n",
    "\n",
    "print(type(mov_1))\n",
    "mov_1.head(1)"
   ]
  },
  {
   "cell_type": "code",
   "execution_count": 83,
   "id": "22f9a403",
   "metadata": {},
   "outputs": [
    {
     "data": {
      "text/html": [
       "<div>\n",
       "<style scoped>\n",
       "    .dataframe tbody tr th:only-of-type {\n",
       "        vertical-align: middle;\n",
       "    }\n",
       "\n",
       "    .dataframe tbody tr th {\n",
       "        vertical-align: top;\n",
       "    }\n",
       "\n",
       "    .dataframe thead th {\n",
       "        text-align: right;\n",
       "    }\n",
       "</style>\n",
       "<table border=\"1\" class=\"dataframe\">\n",
       "  <thead>\n",
       "    <tr style=\"text-align: right;\">\n",
       "      <th></th>\n",
       "      <th>Count(*)</th>\n",
       "    </tr>\n",
       "  </thead>\n",
       "  <tbody>\n",
       "    <tr>\n",
       "      <th>0</th>\n",
       "      <td>37</td>\n",
       "    </tr>\n",
       "  </tbody>\n",
       "</table>\n",
       "</div>"
      ],
      "text/plain": [
       "   Count(*)\n",
       "0        37"
      ]
     },
     "execution_count": 83,
     "metadata": {},
     "output_type": "execute_result"
    }
   ],
   "source": [
    "mov_count=\"\"\"select Count(*) from mov_1\"\"\"\n",
    "movies_obj.sqlquery_command(mov_count)"
   ]
  },
  {
   "cell_type": "code",
   "execution_count": 84,
   "id": "8c741399",
   "metadata": {},
   "outputs": [
    {
     "name": "stdout",
     "output_type": "stream",
     "text": [
      "(53, 2)\n",
      "<class 'pandas.core.frame.DataFrame'>\n",
      "RangeIndex: 53 entries, 0 to 52\n",
      "Data columns (total 2 columns):\n",
      " #   Column                  Non-Null Count  Dtype  \n",
      "---  ------                  --------------  -----  \n",
      " 0   director_name           53 non-null     object \n",
      " 1   num_critic_for_reviews  53 non-null     float64\n",
      "dtypes: float64(1), object(1)\n",
      "memory usage: 976.0+ bytes\n",
      "None\n"
     ]
    },
    {
     "data": {
      "text/html": [
       "<div>\n",
       "<style scoped>\n",
       "    .dataframe tbody tr th:only-of-type {\n",
       "        vertical-align: middle;\n",
       "    }\n",
       "\n",
       "    .dataframe tbody tr th {\n",
       "        vertical-align: top;\n",
       "    }\n",
       "\n",
       "    .dataframe thead th {\n",
       "        text-align: right;\n",
       "    }\n",
       "</style>\n",
       "<table border=\"1\" class=\"dataframe\">\n",
       "  <thead>\n",
       "    <tr style=\"text-align: right;\">\n",
       "      <th></th>\n",
       "      <th>director_name</th>\n",
       "      <th>num_critic_for_reviews</th>\n",
       "    </tr>\n",
       "  </thead>\n",
       "  <tbody>\n",
       "    <tr>\n",
       "      <th>0</th>\n",
       "      <td>Marc Webb</td>\n",
       "      <td>599.0</td>\n",
       "    </tr>\n",
       "    <tr>\n",
       "      <th>1</th>\n",
       "      <td>Steve McQueen</td>\n",
       "      <td>597.0</td>\n",
       "    </tr>\n",
       "    <tr>\n",
       "      <th>2</th>\n",
       "      <td>Quentin Tarantino</td>\n",
       "      <td>596.0</td>\n",
       "    </tr>\n",
       "    <tr>\n",
       "      <th>3</th>\n",
       "      <td>J.J. Abrams</td>\n",
       "      <td>590.0</td>\n",
       "    </tr>\n",
       "    <tr>\n",
       "      <th>4</th>\n",
       "      <td>Rian Johnson</td>\n",
       "      <td>589.0</td>\n",
       "    </tr>\n",
       "    <tr>\n",
       "      <th>5</th>\n",
       "      <td>Alejandro G. Iñárritu</td>\n",
       "      <td>588.0</td>\n",
       "    </tr>\n",
       "    <tr>\n",
       "      <th>6</th>\n",
       "      <td>Doug Liman</td>\n",
       "      <td>585.0</td>\n",
       "    </tr>\n",
       "    <tr>\n",
       "      <th>7</th>\n",
       "      <td>Terrence Malick</td>\n",
       "      <td>584.0</td>\n",
       "    </tr>\n",
       "    <tr>\n",
       "      <th>8</th>\n",
       "      <td>Tim Miller</td>\n",
       "      <td>579.0</td>\n",
       "    </tr>\n",
       "    <tr>\n",
       "      <th>9</th>\n",
       "      <td>Anthony Russo</td>\n",
       "      <td>576.0</td>\n",
       "    </tr>\n",
       "  </tbody>\n",
       "</table>\n",
       "</div>"
      ],
      "text/plain": [
       "           director_name  num_critic_for_reviews\n",
       "0              Marc Webb                   599.0\n",
       "1          Steve McQueen                   597.0\n",
       "2      Quentin Tarantino                   596.0\n",
       "3            J.J. Abrams                   590.0\n",
       "4           Rian Johnson                   589.0\n",
       "5  Alejandro G. Iñárritu                   588.0\n",
       "6             Doug Liman                   585.0\n",
       "7        Terrence Malick                   584.0\n",
       "8             Tim Miller                   579.0\n",
       "9          Anthony Russo                   576.0"
      ]
     },
     "execution_count": 84,
     "metadata": {},
     "output_type": "execute_result"
    }
   ],
   "source": [
    "mov_between_1 =\\\n",
    "\"\"\"select director_name, num_critic_for_reviews from movies_df_obj\n",
    "   where num_critic_for_reviews between 500 and 600 ORDER BY\n",
    "   num_critic_for_reviews DESC\"\"\"\n",
    "\n",
    "mov_between_1_df = movies_obj.sqlquery_command(mov_between_1)\n",
    "\n",
    "print(mov_between_1_df.shape)\n",
    "print(mov_between_1_df.info())\n",
    "mov_between_1_df.head(10)"
   ]
  },
  {
   "cell_type": "code",
   "execution_count": 85,
   "id": "575ca016",
   "metadata": {},
   "outputs": [
    {
     "data": {
      "image/png": "[encoded data removed]",
      "text/plain": [
       "<Figure size 432x288 with 1 Axes>"
      ]
     },
     "metadata": {
      "needs_background": "light"
     },
     "output_type": "display_data"
    }
   ],
   "source": [
    "mov_between_1_df.plot.hist(color='cadetblue', edgecolor='darkmagenta', \n",
    "                           linewidth=2,\n",
    "                           legend=False,\n",
    "                           title='num_critic_for_reviews between 500 and 600')\n",
    "plt.show()"
   ]
  },
  {
   "cell_type": "code",
   "execution_count": 86,
   "id": "1f7c2d77",
   "metadata": {},
   "outputs": [
    {
     "name": "stdout",
     "output_type": "stream",
     "text": [
      "<class 'pandas.core.frame.DataFrame'>\n",
      "RangeIndex: 10 entries, 0 to 9\n",
      "Data columns (total 3 columns):\n",
      " #   Column       Non-Null Count  Dtype  \n",
      "---  ------       --------------  -----  \n",
      " 0   movie_title  10 non-null     object \n",
      " 1   title_year   10 non-null     float64\n",
      " 2   budget       10 non-null     float64\n",
      "dtypes: float64(2), object(1)\n",
      "memory usage: 368.0+ bytes\n",
      "None\n"
     ]
    },
    {
     "data": {
      "text/html": [
       "<div>\n",
       "<style scoped>\n",
       "    .dataframe tbody tr th:only-of-type {\n",
       "        vertical-align: middle;\n",
       "    }\n",
       "\n",
       "    .dataframe tbody tr th {\n",
       "        vertical-align: top;\n",
       "    }\n",
       "\n",
       "    .dataframe thead th {\n",
       "        text-align: right;\n",
       "    }\n",
       "</style>\n",
       "<table border=\"1\" class=\"dataframe\">\n",
       "  <thead>\n",
       "    <tr style=\"text-align: right;\">\n",
       "      <th></th>\n",
       "      <th>movie_title</th>\n",
       "      <th>title_year</th>\n",
       "      <th>budget</th>\n",
       "    </tr>\n",
       "  </thead>\n",
       "  <tbody>\n",
       "    <tr>\n",
       "      <th>0</th>\n",
       "      <td>The Legend of Suriyothai</td>\n",
       "      <td>2001.0</td>\n",
       "      <td>400000000.0</td>\n",
       "    </tr>\n",
       "    <tr>\n",
       "      <th>1</th>\n",
       "      <td>Terminator 3: Rise of the Machines</td>\n",
       "      <td>2003.0</td>\n",
       "      <td>200000000.0</td>\n",
       "    </tr>\n",
       "    <tr>\n",
       "      <th>2</th>\n",
       "      <td>Winged Migration</td>\n",
       "      <td>2001.0</td>\n",
       "      <td>160000000.0</td>\n",
       "    </tr>\n",
       "    <tr>\n",
       "      <th>3</th>\n",
       "      <td>The Matrix Revolutions</td>\n",
       "      <td>2003.0</td>\n",
       "      <td>150000000.0</td>\n",
       "    </tr>\n",
       "    <tr>\n",
       "      <th>4</th>\n",
       "      <td>The Matrix Reloaded</td>\n",
       "      <td>2003.0</td>\n",
       "      <td>150000000.0</td>\n",
       "    </tr>\n",
       "  </tbody>\n",
       "</table>\n",
       "</div>"
      ],
      "text/plain": [
       "                           movie_title  title_year       budget\n",
       "0            The Legend of Suriyothai       2001.0  400000000.0\n",
       "1  Terminator 3: Rise of the Machines       2003.0  200000000.0\n",
       "2                    Winged Migration       2001.0  160000000.0\n",
       "3              The Matrix Revolutions       2003.0  150000000.0\n",
       "4                 The Matrix Reloaded       2003.0  150000000.0"
      ]
     },
     "execution_count": 86,
     "metadata": {},
     "output_type": "execute_result"
    }
   ],
   "source": [
    "mov_in = \"select movie_title, title_year, budget \\\n",
    "          from movies_df_obj WHERE title_year in (2001, 2002, 2003) \\\n",
    "          and budget >= 30000000 ORDER BY budget DESC LIMIT 10\"\n",
    "\n",
    "mov_in = movies_obj.sqlquery_command(mov_in)\n",
    "\n",
    "print(mov_in.info())\n",
    "mov_in.head()"
   ]
  },
  {
   "cell_type": "code",
   "execution_count": 87,
   "id": "86417078",
   "metadata": {},
   "outputs": [
    {
     "data": {
      "image/png": "[encoded data removed]",
      "text/plain": [
       "<Figure size 432x288 with 1 Axes>"
      ]
     },
     "metadata": {
      "needs_background": "light"
     },
     "output_type": "display_data"
    }
   ],
   "source": [
    "mov_in.plot.bar(x='movie_title',\n",
    "                edgecolor='blue', color='palegoldenrod',\n",
    "                legend=False)\n",
    "plt.show()"
   ]
  },
  {
   "cell_type": "code",
   "execution_count": 88,
   "id": "c88bcdfc",
   "metadata": {},
   "outputs": [
    {
     "data": {
      "text/html": [
       "<div>\n",
       "<style scoped>\n",
       "    .dataframe tbody tr th:only-of-type {\n",
       "        vertical-align: middle;\n",
       "    }\n",
       "\n",
       "    .dataframe tbody tr th {\n",
       "        vertical-align: top;\n",
       "    }\n",
       "\n",
       "    .dataframe thead th {\n",
       "        text-align: right;\n",
       "    }\n",
       "</style>\n",
       "<table border=\"1\" class=\"dataframe\">\n",
       "  <thead>\n",
       "    <tr style=\"text-align: right;\">\n",
       "      <th></th>\n",
       "      <th>language</th>\n",
       "      <th>no_language</th>\n",
       "    </tr>\n",
       "  </thead>\n",
       "  <tbody>\n",
       "    <tr>\n",
       "      <th>0</th>\n",
       "      <td>None</td>\n",
       "      <td>0</td>\n",
       "    </tr>\n",
       "  </tbody>\n",
       "</table>\n",
       "</div>"
      ],
      "text/plain": [
       "  language  no_language\n",
       "0     None            0"
      ]
     },
     "execution_count": 88,
     "metadata": {},
     "output_type": "execute_result"
    }
   ],
   "source": [
    "mov_null = \"\"\"select language, count(*) AS \"no_language\" from movies_df_3 where language  is null\"\"\"\n",
    "mov_null=movies_obj.sqlquery_command(mov_null )\n",
    "mov_null"
   ]
  },
  {
   "cell_type": "code",
   "execution_count": 89,
   "id": "b98bbe03",
   "metadata": {},
   "outputs": [
    {
     "name": "stdout",
     "output_type": "stream",
     "text": [
      "   total_budget\n",
      "0  1.809142e+11\n"
     ]
    }
   ],
   "source": [
    "mov_sum = \"select sum(budget) as 'total_budget' \\\n",
    "           from movies_df_obj\"\n",
    "\n",
    "mov_sum_buget = movies_obj.sqlquery_command(mov_sum)\n",
    "\n",
    "print(mov_sum_buget)"
   ]
  },
  {
   "cell_type": "code",
   "execution_count": 90,
   "id": "1bd6ec3d",
   "metadata": {},
   "outputs": [
    {
     "name": "stdout",
     "output_type": "stream",
     "text": [
      "           country    sum_budget\n",
      "0              USA  1.254678e+11\n",
      "1      South Korea  1.660752e+10\n",
      "2               UK  1.048544e+10\n",
      "3            Japan  7.011920e+09\n",
      "4           France  3.987364e+09\n",
      "5          Germany  3.005010e+09\n",
      "6          Hungary  2.520000e+09\n",
      "7            India  1.861494e+09\n",
      "8           Canada  1.613032e+09\n",
      "9        Australia  1.558606e+09\n",
      "10           China  1.431037e+09\n",
      "11           Spain  1.156050e+09\n",
      "12     New Zealand  1.059850e+09\n",
      "13        Thailand  9.090000e+08\n",
      "14       Hong Kong  3.731000e+08\n",
      "15           Italy  2.613500e+08\n",
      "16          Russia  1.727000e+08\n",
      "17          Norway  1.671000e+08\n",
      "18  Czech Republic  1.464500e+08\n",
      "19    South Africa  1.260000e+08\n",
      "20         Denmark  1.253000e+08\n"
     ]
    }
   ],
   "source": [
    "mov_country_budget = \"select country, sum(budget) as 'sum_budget' \\\n",
    "                      from movies_df_obj \\\n",
    "                      group by country \\\n",
    "                      having sum_budget  > 100000000 \\\n",
    "                      Order by sum_budget desc\"\n",
    "\n",
    "mov_country_budget_view = movies_obj.sqlquery_command(mov_country_budget)\n",
    "\n",
    "print(mov_country_budget_view)"
   ]
  },
  {
   "cell_type": "code",
   "execution_count": 91,
   "id": "9e4fcae3",
   "metadata": {},
   "outputs": [
    {
     "data": {
      "image/png": "[encoded data removed]",
      "text/plain": [
       "<Figure size 1080x360 with 1 Axes>"
      ]
     },
     "metadata": {
      "needs_background": "light"
     },
     "output_type": "display_data"
    }
   ],
   "source": [
    "mov_country_budget_view.plot.bar(x='country', figsize=(15,5), legend=False,\n",
    "                                 logy=True,\n",
    "                                 edgecolor='red', linewidth=4)\n",
    "plt.show()"
   ]
  },
  {
   "cell_type": "code",
   "execution_count": 92,
   "id": "1f49c4bf",
   "metadata": {},
   "outputs": [
    {
     "name": "stdout",
     "output_type": "stream",
     "text": [
      "                                  movie_title       profit\n",
      "0                                     Avatar   523505847.0\n",
      "1                             Jurassic World   502177271.0\n",
      "2                                    Titanic   458672302.0\n",
      "3         Star Wars: Episode IV - A New Hope   449935665.0\n",
      "4                 E.T. the Extra-Terrestrial   424449459.0\n",
      "5                               The Avengers   403279547.0\n",
      "6                               The Avengers   403279547.0\n",
      "7                              The Lion King   377783777.0\n",
      "8  Star Wars: Episode I - The Phantom Menace   359544677.0\n",
      "9                            The Dark Knight   348316061.0\n"
     ]
    }
   ],
   "source": [
    "mov_profit = \"select movie_title, gross - budget as profit \\\n",
    "              from movies_df_obj order by profit desc limit 10\"\n",
    "\n",
    "mov_profit_view = movies_obj.sqlquery_command(mov_profit)\n",
    "\n",
    "print(mov_profit_view)"
   ]
  },
  {
   "cell_type": "code",
   "execution_count": 93,
   "id": "6bb341f7",
   "metadata": {},
   "outputs": [
    {
     "data": {
      "image/png": "[encoded data removed]",
      "text/plain": [
       "<Figure size 1080x360 with 1 Axes>"
      ]
     },
     "metadata": {
      "needs_background": "light"
     },
     "output_type": "display_data"
    }
   ],
   "source": [
    "mov_profit_view.plot.bar(x='movie_title', figsize=(15,5), legend=False,\n",
    "                                 logy=True, color='lavender',\n",
    "                                 edgecolor='violet', linewidth=4)\n",
    "plt.show()"
   ]
  },
  {
   "cell_type": "markdown",
   "id": "4823c784",
   "metadata": {},
   "source": [
    "<p>How many genres are there?</p>"
   ]
  },
  {
   "cell_type": "code",
   "execution_count": 94,
   "id": "7f3ede62",
   "metadata": {},
   "outputs": [
    {
     "name": "stdout",
     "output_type": "stream",
     "text": [
      "   count(distinct(genres))\n",
      "0                      914\n"
     ]
    }
   ],
   "source": [
    "mov_genres_distinct = \"select count(distinct(genres)) \\\n",
    "                       from movies_df_obj\"\n",
    "\n",
    "\n",
    "mov_genres_distinct_view = movies_obj.sqlquery_command(mov_genres_distinct)\n",
    "\n",
    "print(mov_genres_distinct_view)"
   ]
  },
  {
   "cell_type": "code",
   "execution_count": 95,
   "id": "516f7233",
   "metadata": {},
   "outputs": [
    {
     "name": "stdout",
     "output_type": "stream",
     "text": [
      "                            genres  profit_or_loss\n",
      "0                           Comedy    3.410157e+09\n",
      "1                   Comedy|Romance    2.529578e+09\n",
      "2  Action|Adventure|Fantasy|Sci-Fi    2.394717e+09\n",
      "3          Action|Adventure|Sci-Fi    2.152709e+09\n",
      "4             Comedy|Drama|Romance    1.611889e+09\n"
     ]
    }
   ],
   "source": [
    "mov_genres = \"select genres, sum(gross - budget) as profit_or_loss \\\n",
    "              from movies_df_obj \\\n",
    "              group by genres order by profit_or_loss desc Limit 5 \"\n",
    "\n",
    "mov_genres_view = movies_obj.sqlquery_command(mov_genres)\n",
    "\n",
    "print(mov_genres_view)"
   ]
  },
  {
   "cell_type": "code",
   "execution_count": 96,
   "id": "ec914eb4",
   "metadata": {},
   "outputs": [],
   "source": [
    "mov_genres_index=mov_genres_view.genres.tolist()"
   ]
  },
  {
   "cell_type": "code",
   "execution_count": 97,
   "id": "7aecefff",
   "metadata": {},
   "outputs": [
    {
     "data": {
      "image/png": "[encoded data removed]",
      "text/plain": [
       "<Figure size 576x720 with 1 Axes>"
      ]
     },
     "metadata": {},
     "output_type": "display_data"
    }
   ],
   "source": [
    "mov_genres_view.set_index('genres').plot.pie(y='profit_or_loss',figsize=(8,10), \n",
    "                                             legend=False)\n",
    "plt.show()"
   ]
  },
  {
   "cell_type": "markdown",
   "id": "6109aa28",
   "metadata": {},
   "source": [
    "<p><b>Calculating percent budget.</b></p>"
   ]
  },
  {
   "cell_type": "code",
   "execution_count": 98,
   "id": "ccd1419a",
   "metadata": {},
   "outputs": [
    {
     "data": {
      "text/html": [
       "<div>\n",
       "<style scoped>\n",
       "    .dataframe tbody tr th:only-of-type {\n",
       "        vertical-align: middle;\n",
       "    }\n",
       "\n",
       "    .dataframe tbody tr th {\n",
       "        vertical-align: top;\n",
       "    }\n",
       "\n",
       "    .dataframe thead th {\n",
       "        text-align: right;\n",
       "    }\n",
       "</style>\n",
       "<table border=\"1\" class=\"dataframe\">\n",
       "  <thead>\n",
       "    <tr style=\"text-align: right;\">\n",
       "      <th></th>\n",
       "      <th>movie_title</th>\n",
       "      <th>budget</th>\n",
       "      <th>percent</th>\n",
       "    </tr>\n",
       "  </thead>\n",
       "  <tbody>\n",
       "    <tr>\n",
       "      <th>0</th>\n",
       "      <td>Avatar</td>\n",
       "      <td>237000000.0</td>\n",
       "      <td>0.131001</td>\n",
       "    </tr>\n",
       "    <tr>\n",
       "      <th>1</th>\n",
       "      <td>Pirates of the Caribbean: At World's End</td>\n",
       "      <td>300000000.0</td>\n",
       "      <td>0.165824</td>\n",
       "    </tr>\n",
       "    <tr>\n",
       "      <th>2</th>\n",
       "      <td>Spectre</td>\n",
       "      <td>245000000.0</td>\n",
       "      <td>0.135423</td>\n",
       "    </tr>\n",
       "    <tr>\n",
       "      <th>3</th>\n",
       "      <td>The Dark Knight Rises</td>\n",
       "      <td>250000000.0</td>\n",
       "      <td>0.138187</td>\n",
       "    </tr>\n",
       "    <tr>\n",
       "      <th>4</th>\n",
       "      <td>Star Wars: Episode VII - The Force Awakens    ...</td>\n",
       "      <td>0.0</td>\n",
       "      <td>0.000000</td>\n",
       "    </tr>\n",
       "  </tbody>\n",
       "</table>\n",
       "</div>"
      ],
      "text/plain": [
       "                                         movie_title       budget   percent\n",
       "0                                            Avatar   237000000.0  0.131001\n",
       "1          Pirates of the Caribbean: At World's End   300000000.0  0.165824\n",
       "2                                           Spectre   245000000.0  0.135423\n",
       "3                             The Dark Knight Rises   250000000.0  0.138187\n",
       "4  Star Wars: Episode VII - The Force Awakens    ...          0.0  0.000000"
      ]
     },
     "execution_count": 98,
     "metadata": {},
     "output_type": "execute_result"
    }
   ],
   "source": [
    "mov_budget_percent = \\\n",
    "\"select movie_title, budget,\\\n",
    " (budget / (select sum(budget) from movies_df_obj)) * 100 as percent \\\n",
    " from movies_df_obj \\\n",
    "\"\n",
    "\n",
    "mov_budget_percent_view = movies_obj.sqlquery_command(mov_budget_percent)\n",
    "\n",
    "mov_budget_percent_view.head()"
   ]
  },
  {
   "cell_type": "markdown",
   "id": "3ca788e8",
   "metadata": {},
   "source": [
    "<p>Checking</p>"
   ]
  },
  {
   "cell_type": "code",
   "execution_count": 99,
   "id": "2b326cf0",
   "metadata": {},
   "outputs": [
    {
     "name": "stdout",
     "output_type": "stream",
     "text": [
      "237000000.0\n",
      "180914175606.0\n",
      "Percentage of Avatar on total budget sum:      0.00131001343154085%\n"
     ]
    }
   ],
   "source": [
    "print(mov_budget_percent_view.iloc[0,1])\n",
    "print(mov_budget_percent_view.budget.sum())\n",
    "\n",
    "print(f'Percentage of Avatar on total budget sum:\\\n",
    "      {mov_budget_percent_view.iloc[0,1] / mov_budget_percent_view.budget.sum()}%')"
   ]
  },
  {
   "cell_type": "code",
   "execution_count": 100,
   "id": "76cb2852",
   "metadata": {},
   "outputs": [
    {
     "data": {
      "image/png": "[encoded data removed]",
      "text/plain": [
       "<Figure size 360x576 with 1 Axes>"
      ]
     },
     "metadata": {},
     "output_type": "display_data"
    }
   ],
   "source": [
    "mov_budget_percent_view.set_index('movie_title').head(7).\\\n",
    "plot.pie(y='percent',figsize=(5,8), normalize=False,\n",
    "                                             legend=False)\n",
    "plt.show()"
   ]
  },
  {
   "cell_type": "code",
   "execution_count": 101,
   "id": "2e16667d",
   "metadata": {},
   "outputs": [
    {
     "data": {
      "text/html": [
       "<div>\n",
       "<style scoped>\n",
       "    .dataframe tbody tr th:only-of-type {\n",
       "        vertical-align: middle;\n",
       "    }\n",
       "\n",
       "    .dataframe tbody tr th {\n",
       "        vertical-align: top;\n",
       "    }\n",
       "\n",
       "    .dataframe thead th {\n",
       "        text-align: right;\n",
       "    }\n",
       "</style>\n",
       "<table border=\"1\" class=\"dataframe\">\n",
       "  <thead>\n",
       "    <tr style=\"text-align: right;\">\n",
       "      <th></th>\n",
       "      <th>actor_1_name</th>\n",
       "      <th>num_critic_for_reviews</th>\n",
       "      <th>average_gross</th>\n",
       "    </tr>\n",
       "  </thead>\n",
       "  <tbody>\n",
       "    <tr>\n",
       "      <th>0</th>\n",
       "      <td>Rupert Everett</td>\n",
       "      <td>205.0</td>\n",
       "      <td>4.364710e+08</td>\n",
       "    </tr>\n",
       "    <tr>\n",
       "      <th>1</th>\n",
       "      <td>Wayne Knight</td>\n",
       "      <td>308.0</td>\n",
       "      <td>3.567840e+08</td>\n",
       "    </tr>\n",
       "    <tr>\n",
       "      <th>2</th>\n",
       "      <td>Steve Bastoni</td>\n",
       "      <td>275.0</td>\n",
       "      <td>2.814925e+08</td>\n",
       "    </tr>\n",
       "    <tr>\n",
       "      <th>3</th>\n",
       "      <td>Phaldut Sharma</td>\n",
       "      <td>738.0</td>\n",
       "      <td>2.740850e+08</td>\n",
       "    </tr>\n",
       "    <tr>\n",
       "      <th>4</th>\n",
       "      <td>Kathleen Freeman</td>\n",
       "      <td>212.0</td>\n",
       "      <td>2.676520e+08</td>\n",
       "    </tr>\n",
       "    <tr>\n",
       "      <th>5</th>\n",
       "      <td>Glenn Morshower</td>\n",
       "      <td>366.0</td>\n",
       "      <td>2.618489e+08</td>\n",
       "    </tr>\n",
       "    <tr>\n",
       "      <th>6</th>\n",
       "      <td>Catherine Dyer</td>\n",
       "      <td>261.0</td>\n",
       "      <td>2.559504e+08</td>\n",
       "    </tr>\n",
       "    <tr>\n",
       "      <th>7</th>\n",
       "      <td>John Ratzenberger</td>\n",
       "      <td>421.0</td>\n",
       "      <td>2.536131e+08</td>\n",
       "    </tr>\n",
       "    <tr>\n",
       "      <th>8</th>\n",
       "      <td>Tim Holmes</td>\n",
       "      <td>525.0</td>\n",
       "      <td>2.349031e+08</td>\n",
       "    </tr>\n",
       "    <tr>\n",
       "      <th>9</th>\n",
       "      <td>Robert Pattinson</td>\n",
       "      <td>329.0</td>\n",
       "      <td>2.301871e+08</td>\n",
       "    </tr>\n",
       "  </tbody>\n",
       "</table>\n",
       "</div>"
      ],
      "text/plain": [
       "        actor_1_name  num_critic_for_reviews  average_gross\n",
       "0     Rupert Everett                   205.0   4.364710e+08\n",
       "1       Wayne Knight                   308.0   3.567840e+08\n",
       "2      Steve Bastoni                   275.0   2.814925e+08\n",
       "3     Phaldut Sharma                   738.0   2.740850e+08\n",
       "4   Kathleen Freeman                   212.0   2.676520e+08\n",
       "5    Glenn Morshower                   366.0   2.618489e+08\n",
       "6     Catherine Dyer                   261.0   2.559504e+08\n",
       "7  John Ratzenberger                   421.0   2.536131e+08\n",
       "8         Tim Holmes                   525.0   2.349031e+08\n",
       "9   Robert Pattinson                   329.0   2.301871e+08"
      ]
     },
     "execution_count": 101,
     "metadata": {},
     "output_type": "execute_result"
    }
   ],
   "source": [
    "mov_gross = \\\n",
    "\"select actor_1_name, num_critic_for_reviews, avg(gross) as average_gross\\\n",
    " from movies_df_obj \\\n",
    " where num_critic_for_reviews > 10 \\\n",
    " group by actor_1_name \\\n",
    " having avg(gross) \\\n",
    " order by avg(gross) desc \\\n",
    " limit 10\"\n",
    "\n",
    "mov_gross_view = movies_obj.sqlquery_command(mov_gross)\n",
    "\n",
    "mov_gross_view"
   ]
  },
  {
   "cell_type": "code",
   "execution_count": null,
   "id": "54c46388",
   "metadata": {},
   "outputs": [],
   "source": []
  }
 ],
 "metadata": {
  "kernelspec": {
   "display_name": "Python 3 (ipykernel)",
   "language": "python",
   "name": "python3"
  },
  "language_info": {
   "codemirror_mode": {
    "name": "ipython",
    "version": 3
   },
   "file_extension": ".py",
   "mimetype": "text/x-python",
   "name": "python",
   "nbconvert_exporter": "python",
   "pygments_lexer": "ipython3",
   "version": "3.7.10"
  }
 },
 "nbformat": 4,
 "nbformat_minor": 5
}
